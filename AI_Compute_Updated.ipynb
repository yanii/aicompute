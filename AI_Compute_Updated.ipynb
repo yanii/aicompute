{
  "nbformat": 4,
  "nbformat_minor": 0,
  "metadata": {
    "colab": {
      "name": "AI Compute Updated",
      "provenance": [],
      "collapsed_sections": [],
      "authorship_tag": "ABX9TyNusne0A43KoqlyKhV5Ga7y",
      "include_colab_link": true
    },
    "kernelspec": {
      "name": "python3",
      "display_name": "Python 3"
    }
  },
  "cells": [
    {
      "cell_type": "markdown",
      "metadata": {
        "id": "view-in-github",
        "colab_type": "text"
      },
      "source": [
        "<a href=\"https://colab.research.google.com/github/yanii/aicompute/blob/main/AI_Compute_Updated.ipynb\" target=\"_parent\"><img src=\"https://colab.research.google.com/assets/colab-badge.svg\" alt=\"Open In Colab\"/></a>"
      ]
    },
    {
      "cell_type": "markdown",
      "metadata": {
        "id": "EB8IKzpQl24O"
      },
      "source": [
        "Based on https://openai.com/blog/ai-and-compute/"
      ]
    },
    {
      "cell_type": "markdown",
      "metadata": {
        "id": "sOBshaEaRIuE"
      },
      "source": [
        "#Install Requirements"
      ]
    },
    {
      "cell_type": "code",
      "metadata": {
        "id": "7g9P851VHPyh",
        "outputId": "8897c585-6dbe-4ffb-aef3-27e23db2d686",
        "colab": {
          "base_uri": "https://localhost:8080/"
        }
      },
      "source": [
        "!pip install altair_saver vega"
      ],
      "execution_count": 1,
      "outputs": [
        {
          "output_type": "stream",
          "text": [
            "Requirement already satisfied: altair_saver in /usr/local/lib/python3.6/dist-packages (0.5.0)\n",
            "Requirement already satisfied: vega in /usr/local/lib/python3.6/dist-packages (3.4.0)\n",
            "Requirement already satisfied: altair-data-server>=0.4.0 in /usr/local/lib/python3.6/dist-packages (from altair_saver) (0.4.1)\n",
            "Requirement already satisfied: selenium in /usr/local/lib/python3.6/dist-packages (from altair_saver) (3.141.0)\n",
            "Requirement already satisfied: altair in /usr/local/lib/python3.6/dist-packages (from altair_saver) (4.1.0)\n",
            "Requirement already satisfied: altair-viewer in /usr/local/lib/python3.6/dist-packages (from altair_saver) (0.3.0)\n",
            "Requirement already satisfied: jupyter<2.0.0,>=1.0.0 in /usr/local/lib/python3.6/dist-packages (from vega) (1.0.0)\n",
            "Requirement already satisfied: pandas<2.0.0,>=1.0.0 in /usr/local/lib/python3.6/dist-packages (from vega) (1.1.4)\n",
            "Requirement already satisfied: portpicker in /usr/local/lib/python3.6/dist-packages (from altair-data-server>=0.4.0->altair_saver) (1.3.1)\n",
            "Requirement already satisfied: tornado in /usr/local/lib/python3.6/dist-packages (from altair-data-server>=0.4.0->altair_saver) (5.1.1)\n",
            "Requirement already satisfied: urllib3 in /usr/local/lib/python3.6/dist-packages (from selenium->altair_saver) (1.24.3)\n",
            "Requirement already satisfied: numpy in /usr/local/lib/python3.6/dist-packages (from altair->altair_saver) (1.18.5)\n",
            "Requirement already satisfied: entrypoints in /usr/local/lib/python3.6/dist-packages (from altair->altair_saver) (0.3)\n",
            "Requirement already satisfied: toolz in /usr/local/lib/python3.6/dist-packages (from altair->altair_saver) (0.11.1)\n",
            "Requirement already satisfied: jsonschema in /usr/local/lib/python3.6/dist-packages (from altair->altair_saver) (2.6.0)\n",
            "Requirement already satisfied: jinja2 in /usr/local/lib/python3.6/dist-packages (from altair->altair_saver) (2.11.2)\n",
            "Requirement already satisfied: jupyter-console in /usr/local/lib/python3.6/dist-packages (from jupyter<2.0.0,>=1.0.0->vega) (5.2.0)\n",
            "Requirement already satisfied: ipywidgets in /usr/local/lib/python3.6/dist-packages (from jupyter<2.0.0,>=1.0.0->vega) (7.5.1)\n",
            "Requirement already satisfied: nbconvert in /usr/local/lib/python3.6/dist-packages (from jupyter<2.0.0,>=1.0.0->vega) (5.6.1)\n",
            "Requirement already satisfied: qtconsole in /usr/local/lib/python3.6/dist-packages (from jupyter<2.0.0,>=1.0.0->vega) (4.7.7)\n",
            "Requirement already satisfied: notebook in /usr/local/lib/python3.6/dist-packages (from jupyter<2.0.0,>=1.0.0->vega) (5.3.1)\n",
            "Requirement already satisfied: ipykernel in /usr/local/lib/python3.6/dist-packages (from jupyter<2.0.0,>=1.0.0->vega) (4.10.1)\n",
            "Requirement already satisfied: python-dateutil>=2.7.3 in /usr/local/lib/python3.6/dist-packages (from pandas<2.0.0,>=1.0.0->vega) (2.8.1)\n",
            "Requirement already satisfied: pytz>=2017.2 in /usr/local/lib/python3.6/dist-packages (from pandas<2.0.0,>=1.0.0->vega) (2018.9)\n",
            "Requirement already satisfied: MarkupSafe>=0.23 in /usr/local/lib/python3.6/dist-packages (from jinja2->altair->altair_saver) (1.1.1)\n",
            "Requirement already satisfied: ipython in /usr/local/lib/python3.6/dist-packages (from jupyter-console->jupyter<2.0.0,>=1.0.0->vega) (5.5.0)\n",
            "Requirement already satisfied: jupyter-client in /usr/local/lib/python3.6/dist-packages (from jupyter-console->jupyter<2.0.0,>=1.0.0->vega) (5.3.5)\n",
            "Requirement already satisfied: prompt-toolkit<2.0.0,>=1.0.0 in /usr/local/lib/python3.6/dist-packages (from jupyter-console->jupyter<2.0.0,>=1.0.0->vega) (1.0.18)\n",
            "Requirement already satisfied: pygments in /usr/local/lib/python3.6/dist-packages (from jupyter-console->jupyter<2.0.0,>=1.0.0->vega) (2.6.1)\n",
            "Requirement already satisfied: traitlets>=4.3.1 in /usr/local/lib/python3.6/dist-packages (from ipywidgets->jupyter<2.0.0,>=1.0.0->vega) (4.3.3)\n",
            "Requirement already satisfied: nbformat>=4.2.0 in /usr/local/lib/python3.6/dist-packages (from ipywidgets->jupyter<2.0.0,>=1.0.0->vega) (5.0.8)\n",
            "Requirement already satisfied: widgetsnbextension~=3.5.0 in /usr/local/lib/python3.6/dist-packages (from ipywidgets->jupyter<2.0.0,>=1.0.0->vega) (3.5.1)\n",
            "Requirement already satisfied: testpath in /usr/local/lib/python3.6/dist-packages (from nbconvert->jupyter<2.0.0,>=1.0.0->vega) (0.4.4)\n",
            "Requirement already satisfied: bleach in /usr/local/lib/python3.6/dist-packages (from nbconvert->jupyter<2.0.0,>=1.0.0->vega) (3.2.1)\n",
            "Requirement already satisfied: defusedxml in /usr/local/lib/python3.6/dist-packages (from nbconvert->jupyter<2.0.0,>=1.0.0->vega) (0.6.0)\n",
            "Requirement already satisfied: pandocfilters>=1.4.1 in /usr/local/lib/python3.6/dist-packages (from nbconvert->jupyter<2.0.0,>=1.0.0->vega) (1.4.3)\n",
            "Requirement already satisfied: jupyter-core in /usr/local/lib/python3.6/dist-packages (from nbconvert->jupyter<2.0.0,>=1.0.0->vega) (4.6.3)\n",
            "Requirement already satisfied: mistune<2,>=0.8.1 in /usr/local/lib/python3.6/dist-packages (from nbconvert->jupyter<2.0.0,>=1.0.0->vega) (0.8.4)\n",
            "Requirement already satisfied: pyzmq>=17.1 in /usr/local/lib/python3.6/dist-packages (from qtconsole->jupyter<2.0.0,>=1.0.0->vega) (19.0.2)\n",
            "Requirement already satisfied: ipython-genutils in /usr/local/lib/python3.6/dist-packages (from qtconsole->jupyter<2.0.0,>=1.0.0->vega) (0.2.0)\n",
            "Requirement already satisfied: qtpy in /usr/local/lib/python3.6/dist-packages (from qtconsole->jupyter<2.0.0,>=1.0.0->vega) (1.9.0)\n",
            "Requirement already satisfied: Send2Trash in /usr/local/lib/python3.6/dist-packages (from notebook->jupyter<2.0.0,>=1.0.0->vega) (1.5.0)\n",
            "Requirement already satisfied: terminado>=0.8.1 in /usr/local/lib/python3.6/dist-packages (from notebook->jupyter<2.0.0,>=1.0.0->vega) (0.9.1)\n",
            "Requirement already satisfied: six>=1.5 in /usr/local/lib/python3.6/dist-packages (from python-dateutil>=2.7.3->pandas<2.0.0,>=1.0.0->vega) (1.15.0)\n",
            "Requirement already satisfied: pickleshare in /usr/local/lib/python3.6/dist-packages (from ipython->jupyter-console->jupyter<2.0.0,>=1.0.0->vega) (0.7.5)\n",
            "Requirement already satisfied: simplegeneric>0.8 in /usr/local/lib/python3.6/dist-packages (from ipython->jupyter-console->jupyter<2.0.0,>=1.0.0->vega) (0.8.1)\n",
            "Requirement already satisfied: pexpect; sys_platform != \"win32\" in /usr/local/lib/python3.6/dist-packages (from ipython->jupyter-console->jupyter<2.0.0,>=1.0.0->vega) (4.8.0)\n",
            "Requirement already satisfied: decorator in /usr/local/lib/python3.6/dist-packages (from ipython->jupyter-console->jupyter<2.0.0,>=1.0.0->vega) (4.4.2)\n",
            "Requirement already satisfied: setuptools>=18.5 in /usr/local/lib/python3.6/dist-packages (from ipython->jupyter-console->jupyter<2.0.0,>=1.0.0->vega) (50.3.2)\n",
            "Requirement already satisfied: wcwidth in /usr/local/lib/python3.6/dist-packages (from prompt-toolkit<2.0.0,>=1.0.0->jupyter-console->jupyter<2.0.0,>=1.0.0->vega) (0.2.5)\n",
            "Requirement already satisfied: webencodings in /usr/local/lib/python3.6/dist-packages (from bleach->nbconvert->jupyter<2.0.0,>=1.0.0->vega) (0.5.1)\n",
            "Requirement already satisfied: packaging in /usr/local/lib/python3.6/dist-packages (from bleach->nbconvert->jupyter<2.0.0,>=1.0.0->vega) (20.4)\n",
            "Requirement already satisfied: ptyprocess; os_name != \"nt\" in /usr/local/lib/python3.6/dist-packages (from terminado>=0.8.1->notebook->jupyter<2.0.0,>=1.0.0->vega) (0.6.0)\n",
            "Requirement already satisfied: pyparsing>=2.0.2 in /usr/local/lib/python3.6/dist-packages (from packaging->bleach->nbconvert->jupyter<2.0.0,>=1.0.0->vega) (2.4.7)\n"
          ],
          "name": "stdout"
        }
      ]
    },
    {
      "cell_type": "code",
      "metadata": {
        "id": "3ZWaiabeIChZ",
        "outputId": "0dad6a35-a63a-44c6-c800-3e56e85a7915",
        "colab": {
          "base_uri": "https://localhost:8080/"
        }
      },
      "source": [
        "!npm install --silent vega-lite vega-cli canvas"
      ],
      "execution_count": 2,
      "outputs": [
        {
          "output_type": "stream",
          "text": [
            "\u001b[K\u001b[?25h[canvas] Success: \"/content/node_modules/canvas/build/Release/canvas.node\" is installed via remote\n",
            "\u001b[K\u001b[?25h+ vega-cli@5.17.0\n",
            "+ canvas@2.6.1\n",
            "+ vega-lite@4.17.0\n",
            "updated 3 packages and audited 281 packages in 4.543s\n",
            "\n",
            "7 packages are looking for funding\n",
            "  run `npm fund` for details\n",
            "\n",
            "found \u001b[92m0\u001b[0m vulnerabilities\n",
            "\n",
            "\u001b[K\u001b[?25h"
          ],
          "name": "stdout"
        }
      ]
    },
    {
      "cell_type": "code",
      "metadata": {
        "id": "q_fyJBl-OdyA"
      },
      "source": [
        "!apt-get -qq install chromium-chromedriver"
      ],
      "execution_count": 3,
      "outputs": []
    },
    {
      "cell_type": "markdown",
      "metadata": {
        "id": "eocCPQHNSwrc"
      },
      "source": [
        "# Install Fonts"
      ]
    },
    {
      "cell_type": "code",
      "metadata": {
        "id": "NdnvZyq7SwTE",
        "outputId": "252e196a-6aee-441c-d5c1-3a2fa13acd88",
        "colab": {
          "base_uri": "https://localhost:8080/"
        }
      },
      "source": [
        "!wget -O /tmp/fonts.zip https://fonts.google.com/download?family=Roboto"
      ],
      "execution_count": 4,
      "outputs": [
        {
          "output_type": "stream",
          "text": [
            "--2020-11-15 18:39:04--  https://fonts.google.com/download?family=Roboto\n",
            "Resolving fonts.google.com (fonts.google.com)... 172.217.214.139, 172.217.214.113, 172.217.214.102, ...\n",
            "Connecting to fonts.google.com (fonts.google.com)|172.217.214.139|:443... connected.\n",
            "HTTP request sent, awaiting response... 200 OK\n",
            "Length: unspecified [application/zip]\n",
            "Saving to: ‘/tmp/fonts.zip’\n",
            "\n",
            "/tmp/fonts.zip          [ <=>                ]   1.07M  --.-KB/s    in 0.06s   \n",
            "\n",
            "2020-11-15 18:39:04 (19.5 MB/s) - ‘/tmp/fonts.zip’ saved [1124235]\n",
            "\n"
          ],
          "name": "stdout"
        }
      ]
    },
    {
      "cell_type": "code",
      "metadata": {
        "id": "5f9VDHPDS0N5",
        "outputId": "90bb8452-b317-4fd3-abf8-0b6d326f589b",
        "colab": {
          "base_uri": "https://localhost:8080/"
        }
      },
      "source": [
        "!unzip -fd /usr/share/fonts/truetype/ /tmp/fonts.zip"
      ],
      "execution_count": 5,
      "outputs": [
        {
          "output_type": "stream",
          "text": [
            "Archive:  /tmp/fonts.zip\n"
          ],
          "name": "stdout"
        }
      ]
    },
    {
      "cell_type": "markdown",
      "metadata": {
        "id": "gHkv76p3RRRP"
      },
      "source": [
        "# Data"
      ]
    },
    {
      "cell_type": "code",
      "metadata": {
        "id": "A2BJG2ku2Tte"
      },
      "source": [
        "data = [\n",
        "#     {'name': 'Perceptron', 'type':'NN', 'pflopsdays': 1e-14, 'date': '13/07/1958'},\n",
        "    # {'name': 'LeNet', 'type':'CNN', 'pflopsdays': 0.000000012276, 'date': '01/07/1989'},\n",
        "#     {'name': 'ALVINN', 'type':'NN', 'pflopsdays': 1e-9, 'date': '01/12/1989'},\n",
        "    {'name': 'AlexNet', 'type':'CNN', 'pflopsdays': 0.0054, 'date': '01/04/2012'},\n",
        "    # {'name': 'DQN', 'type':'CNN', 'pflopsdays': 2.7e-5, 'date': '19/12/2013'},\n",
        "    # {'name': 'Word2Vec', 'type':'NN', 'pflopsdays': 0.00045, 'date': '16/10/2013'},\n",
        "    # {'name': 'Variational Auto Encoders', 'type':'VAE', 'pflopsdays': 0.0000055, 'date': '20/12/2013'},\n",
        "    # {'name': 'GAN', 'type': 'GAN', 'pflopsdays': 0.006, 'date': '10/06/2014'},\n",
        "    {'name': 'Seq2Seq', 'type':'RNN', 'pflopsdays': 0.093, 'date': '10/09/2014'},\n",
        "    {'name': 'VGG', 'type':'CNN', 'pflopsdays': 0.12, 'date': '04/09/2014'},\n",
        "    {'name': 'GoogLeNet', 'type':'CNN', 'pflopsdays': 1.2e-2, 'date': '17/09/2014'},\n",
        "    {'name': 'DeepSpeech2', 'type':'RNN', 'pflopsdays': 0.25, 'date': '08/12/2015'},\n",
        "    {'name': 'Neural Machine Translation', 'type':'RNN', 'pflopsdays': 79.0, 'date': '26/09/2016'},\n",
        "    {'name': 'Neural Architecture Search', 'type':'CNN', 'pflopsdays': 31.0, 'date': '05/11/2016'},\n",
        "    {'name': 'ResNet', 'type':'CNN', 'pflopsdays': 1e-1, 'date': '16/03/2016'},\n",
        "    {'name': 'Xception', 'type':'CNN', 'pflopsdays': 5.0, 'date': '07/10/2016'},\n",
        "    {'name': 'Transformer', 'type': 'Transformer', 'pflopsdays': 0.089, 'date': '12/06/2017'},\n",
        "    {'name': 'BERT', 'type': 'Transformer', 'pflopsdays': 1.89, 'date': '11/10/2018'},\n",
        "    {'name': 'GPT-2', 'type': 'Transformer', 'pflopsdays': 10, 'date': '11/02/2019'},\n",
        "    # {'name': 'EfficientNet', 'type':'CNN', 'pflopsdays': 0.11088, 'date': '28/05/2019'},\n",
        "    {'name': 'GPT-3', 'type': 'Transformer', 'pflopsdays': 3.64e3, 'date': '28/05/2020'},\n",
        "]"
      ],
      "execution_count": 6,
      "outputs": []
    },
    {
      "cell_type": "code",
      "metadata": {
        "id": "VLcUgz7oC8yn"
      },
      "source": [
        "import pandas as pd"
      ],
      "execution_count": 7,
      "outputs": []
    },
    {
      "cell_type": "code",
      "metadata": {
        "id": "dAb096gvQR6W"
      },
      "source": [
        "dataframe = pd.DataFrame.from_dict(data)\n",
        "dataframe['date'] = pd.to_datetime(dataframe['date'], format='%d/%m/%Y') \n",
        "dataframe = dataframe.sort_values(by=['date']) "
      ],
      "execution_count": 8,
      "outputs": []
    },
    {
      "cell_type": "code",
      "metadata": {
        "id": "Hsd5h0jSQUNa",
        "outputId": "7cef218c-1f29-4924-84a7-7fe9380b2e36",
        "colab": {
          "base_uri": "https://localhost:8080/",
          "height": 452
        }
      },
      "source": [
        "dataframe"
      ],
      "execution_count": 9,
      "outputs": [
        {
          "output_type": "execute_result",
          "data": {
            "text/html": [
              "<div>\n",
              "<style scoped>\n",
              "    .dataframe tbody tr th:only-of-type {\n",
              "        vertical-align: middle;\n",
              "    }\n",
              "\n",
              "    .dataframe tbody tr th {\n",
              "        vertical-align: top;\n",
              "    }\n",
              "\n",
              "    .dataframe thead th {\n",
              "        text-align: right;\n",
              "    }\n",
              "</style>\n",
              "<table border=\"1\" class=\"dataframe\">\n",
              "  <thead>\n",
              "    <tr style=\"text-align: right;\">\n",
              "      <th></th>\n",
              "      <th>name</th>\n",
              "      <th>type</th>\n",
              "      <th>pflopsdays</th>\n",
              "      <th>date</th>\n",
              "    </tr>\n",
              "  </thead>\n",
              "  <tbody>\n",
              "    <tr>\n",
              "      <th>0</th>\n",
              "      <td>AlexNet</td>\n",
              "      <td>CNN</td>\n",
              "      <td>0.0054</td>\n",
              "      <td>2012-04-01</td>\n",
              "    </tr>\n",
              "    <tr>\n",
              "      <th>2</th>\n",
              "      <td>VGG</td>\n",
              "      <td>CNN</td>\n",
              "      <td>0.1200</td>\n",
              "      <td>2014-09-04</td>\n",
              "    </tr>\n",
              "    <tr>\n",
              "      <th>1</th>\n",
              "      <td>Seq2Seq</td>\n",
              "      <td>RNN</td>\n",
              "      <td>0.0930</td>\n",
              "      <td>2014-09-10</td>\n",
              "    </tr>\n",
              "    <tr>\n",
              "      <th>3</th>\n",
              "      <td>GoogLeNet</td>\n",
              "      <td>CNN</td>\n",
              "      <td>0.0120</td>\n",
              "      <td>2014-09-17</td>\n",
              "    </tr>\n",
              "    <tr>\n",
              "      <th>4</th>\n",
              "      <td>DeepSpeech2</td>\n",
              "      <td>RNN</td>\n",
              "      <td>0.2500</td>\n",
              "      <td>2015-12-08</td>\n",
              "    </tr>\n",
              "    <tr>\n",
              "      <th>7</th>\n",
              "      <td>ResNet</td>\n",
              "      <td>CNN</td>\n",
              "      <td>0.1000</td>\n",
              "      <td>2016-03-16</td>\n",
              "    </tr>\n",
              "    <tr>\n",
              "      <th>5</th>\n",
              "      <td>Neural Machine Translation</td>\n",
              "      <td>RNN</td>\n",
              "      <td>79.0000</td>\n",
              "      <td>2016-09-26</td>\n",
              "    </tr>\n",
              "    <tr>\n",
              "      <th>8</th>\n",
              "      <td>Xception</td>\n",
              "      <td>CNN</td>\n",
              "      <td>5.0000</td>\n",
              "      <td>2016-10-07</td>\n",
              "    </tr>\n",
              "    <tr>\n",
              "      <th>6</th>\n",
              "      <td>Neural Architecture Search</td>\n",
              "      <td>CNN</td>\n",
              "      <td>31.0000</td>\n",
              "      <td>2016-11-05</td>\n",
              "    </tr>\n",
              "    <tr>\n",
              "      <th>9</th>\n",
              "      <td>Transformer</td>\n",
              "      <td>Transformer</td>\n",
              "      <td>0.0890</td>\n",
              "      <td>2017-06-12</td>\n",
              "    </tr>\n",
              "    <tr>\n",
              "      <th>10</th>\n",
              "      <td>BERT</td>\n",
              "      <td>Transformer</td>\n",
              "      <td>1.8900</td>\n",
              "      <td>2018-10-11</td>\n",
              "    </tr>\n",
              "    <tr>\n",
              "      <th>11</th>\n",
              "      <td>GPT-2</td>\n",
              "      <td>Transformer</td>\n",
              "      <td>10.0000</td>\n",
              "      <td>2019-02-11</td>\n",
              "    </tr>\n",
              "    <tr>\n",
              "      <th>12</th>\n",
              "      <td>GPT-3</td>\n",
              "      <td>Transformer</td>\n",
              "      <td>3640.0000</td>\n",
              "      <td>2020-05-28</td>\n",
              "    </tr>\n",
              "  </tbody>\n",
              "</table>\n",
              "</div>"
            ],
            "text/plain": [
              "                          name         type  pflopsdays       date\n",
              "0                      AlexNet          CNN      0.0054 2012-04-01\n",
              "2                          VGG          CNN      0.1200 2014-09-04\n",
              "1                      Seq2Seq          RNN      0.0930 2014-09-10\n",
              "3                    GoogLeNet          CNN      0.0120 2014-09-17\n",
              "4                  DeepSpeech2          RNN      0.2500 2015-12-08\n",
              "7                       ResNet          CNN      0.1000 2016-03-16\n",
              "5   Neural Machine Translation          RNN     79.0000 2016-09-26\n",
              "8                     Xception          CNN      5.0000 2016-10-07\n",
              "6   Neural Architecture Search          CNN     31.0000 2016-11-05\n",
              "9                  Transformer  Transformer      0.0890 2017-06-12\n",
              "10                        BERT  Transformer      1.8900 2018-10-11\n",
              "11                       GPT-2  Transformer     10.0000 2019-02-11\n",
              "12                       GPT-3  Transformer   3640.0000 2020-05-28"
            ]
          },
          "metadata": {
            "tags": []
          },
          "execution_count": 9
        }
      ]
    },
    {
      "cell_type": "markdown",
      "metadata": {
        "id": "hlCVdZzWRqLi"
      },
      "source": [
        "# Seaborn Plot"
      ]
    },
    {
      "cell_type": "code",
      "metadata": {
        "id": "kHR0JNqrQcTt"
      },
      "source": [
        "import seaborn as sns\n",
        "import matplotlib as mpl\n",
        "import matplotlib.pyplot as plt\n",
        "import matplotlib.font_manager as fm\n",
        "\n",
        "# fetch the name of font that was installed\n",
        "path = '/usr/share/fonts/truetype/Roboto-Regular.ttf'\n",
        "fontprop = fm.FontProperties(fname=path)\n",
        "\n",
        "sns.set_theme()\n",
        "# %matplotlib inline"
      ],
      "execution_count": 10,
      "outputs": []
    },
    {
      "cell_type": "code",
      "metadata": {
        "id": "xlMGXgSBTjUg",
        "outputId": "352626e0-98b7-4e64-b472-fa145b20fcb0",
        "colab": {
          "base_uri": "https://localhost:8080/",
          "height": 587
        }
      },
      "source": [
        "fig, ax = plt.subplots(figsize=(10, 10))\n",
        "# ax.set(yscale=\"log\")\n",
        "fig.autofmt_xdate()\n",
        "# ax.plot_date(dataframe['date'], dataframe['pflops-days'])\n",
        "splot = sns.scatterplot(data=dataframe, x='date', y='pflopsdays', hue='type')\n",
        "splot.set(yscale=\"log\")"
      ],
      "execution_count": 11,
      "outputs": [
        {
          "output_type": "execute_result",
          "data": {
            "text/plain": [
              "[None]"
            ]
          },
          "metadata": {
            "tags": []
          },
          "execution_count": 11
        },
        {
          "output_type": "display_data",
          "data": {
            "image/png": "[encoded data removed]",
            "text/plain": [
              "<Figure size 720x720 with 1 Axes>"
            ]
          },
          "metadata": {
            "tags": []
          }
        }
      ]
    },
    {
      "cell_type": "markdown",
      "metadata": {
        "id": "PY3R-xn7RsFf"
      },
      "source": [
        "# Altair Plot"
      ]
    },
    {
      "cell_type": "code",
      "metadata": {
        "id": "yZHCBAsbvcRB"
      },
      "source": [
        "import altair as alt\n",
        "from altair import datum"
      ],
      "execution_count": 12,
      "outputs": []
    },
    {
      "cell_type": "code",
      "metadata": {
        "id": "FMrjlVoBMiUi"
      },
      "source": [
        "color_scheme='tableau10'"
      ],
      "execution_count": 13,
      "outputs": []
    },
    {
      "cell_type": "code",
      "metadata": {
        "id": "RdD-Szw2wLBO",
        "outputId": "bd71ea65-a162-4281-ce61-80960879e0ff",
        "colab": {
          "base_uri": "https://localhost:8080/",
          "height": 308
        }
      },
      "source": [
        "points=alt.Chart(dataframe, width=320, height=240).encode(\n",
        "    alt.X('date:T', title='Publication Date', scale=alt.Scale(domain=[pd.to_datetime('1/1/2012', format='%d/%m/%Y'), pd.to_datetime('1/7/2021', format='%d/%m/%Y')])),\n",
        "    alt.Y('pflopsdays:Q', scale=alt.Scale(type='log', base=10, zero=False), axis=alt.Axis(format='.0e'), title='Training Cost (Petaflops/s-days)'),\n",
        "    alt.Color('type:N', scale=alt.Scale(scheme=color_scheme), legend=alt.Legend(orient='top-left', offset=5, fillColor='white', padding=5, strokeColor='grey', direction='horizontal', title=None, titleBaseline='middle'), title='DNN Architecture'),\n",
        "    text='name:N'\n",
        ").mark_circle(size=100)\n",
        "\n",
        "annotations_nn = points.transform_filter(\n",
        "    datum.type == 'NN'\n",
        ").mark_text(\n",
        "    align='left',\n",
        "    baseline='middle',\n",
        "    fontSize = 10,\n",
        "    dx = 7,\n",
        ")\n",
        "\n",
        "annotations_cnn = points.transform_filter(\n",
        "    datum.type == 'CNN'\n",
        ").mark_text(\n",
        "    align='left',\n",
        "    baseline='middle',\n",
        "    fontSize = 10,\n",
        "    dx = 7,\n",
        ")\n",
        "\n",
        "annotations_transformer = points.transform_filter(\n",
        "    datum.type == 'Transformer'\n",
        ").mark_text(\n",
        "    align='left',\n",
        "    baseline='middle',\n",
        "    fontSize = 10,\n",
        "    dx = 7,\n",
        ")\n",
        "\n",
        "annotations_rnn = points.transform_filter(\n",
        "    datum.type == 'RNN'\n",
        ").mark_text(\n",
        "    align='right',\n",
        "    baseline='middle',\n",
        "    fontSize = 10,\n",
        "    dx = -7,\n",
        ")\n",
        "\n",
        "chart = (points+annotations_cnn+annotations_transformer+annotations_rnn).configure_axis(\n",
        "    gridColor='lightgrey',\n",
        "    gridOpacity=0.33,\n",
        "    labelFontStyle='Roboto-Regular',\n",
        "    titleFont='Roboto-Regular',\n",
        ")\n",
        "\n",
        "chart.interactive()"
      ],
      "execution_count": 14,
      "outputs": [
        {
          "output_type": "execute_result",
          "data": {
            "text/plain": [
              "alt.LayerChart(...)"
            ],
            "text/html": [
              "\n",
              "<div id=\"altair-viz-bb3356ccf21342cb849dfe354215fc29\"></div>\n",
              "<script type=\"text/javascript\">\n",
              "  (function(spec, embedOpt){\n",
              "    let outputDiv = document.currentScript.previousElementSibling;\n",
              "    if (outputDiv.id !== \"altair-viz-bb3356ccf21342cb849dfe354215fc29\") {\n",
              "      outputDiv = document.getElementById(\"altair-viz-bb3356ccf21342cb849dfe354215fc29\");\n",
              "    }\n",
              "    const paths = {\n",
              "      \"vega\": \"https://cdn.jsdelivr.net/npm//vega@5?noext\",\n",
              "      \"vega-lib\": \"https://cdn.jsdelivr.net/npm//vega-lib?noext\",\n",
              "      \"vega-lite\": \"https://cdn.jsdelivr.net/npm//vega-lite@4.8.1?noext\",\n",
              "      \"vega-embed\": \"https://cdn.jsdelivr.net/npm//vega-embed@6?noext\",\n",
              "    };\n",
              "\n",
              "    function loadScript(lib) {\n",
              "      return new Promise(function(resolve, reject) {\n",
              "        var s = document.createElement('script');\n",
              "        s.src = paths[lib];\n",
              "        s.async = true;\n",
              "        s.onload = () => resolve(paths[lib]);\n",
              "        s.onerror = () => reject(`Error loading script: ${paths[lib]}`);\n",
              "        document.getElementsByTagName(\"head\")[0].appendChild(s);\n",
              "      });\n",
              "    }\n",
              "\n",
              "    function showError(err) {\n",
              "      outputDiv.innerHTML = `<div class=\"error\" style=\"color:red;\">${err}</div>`;\n",
              "      throw err;\n",
              "    }\n",
              "\n",
              "    function displayChart(vegaEmbed) {\n",
              "      vegaEmbed(outputDiv, spec, embedOpt)\n",
              "        .catch(err => showError(`Javascript Error: ${err.message}<br>This usually means there's a typo in your chart specification. See the javascript console for the full traceback.`));\n",
              "    }\n",
              "\n",
              "    if(typeof define === \"function\" && define.amd) {\n",
              "      requirejs.config({paths});\n",
              "      require([\"vega-embed\"], displayChart, err => showError(`Error loading script: ${err.message}`));\n",
              "    } else if (typeof vegaEmbed === \"function\") {\n",
              "      displayChart(vegaEmbed);\n",
              "    } else {\n",
              "      loadScript(\"vega\")\n",
              "        .then(() => loadScript(\"vega-lite\"))\n",
              "        .then(() => loadScript(\"vega-embed\"))\n",
              "        .catch(showError)\n",
              "        .then(() => displayChart(vegaEmbed));\n",
              "    }\n",
              "  })({\"config\": {\"view\": {\"continuousWidth\": 400, \"continuousHeight\": 300}, \"axis\": {\"gridColor\": \"lightgrey\", \"gridOpacity\": 0.33, \"labelFontStyle\": \"Roboto-Regular\", \"titleFont\": \"Roboto-Regular\"}}, \"layer\": [{\"mark\": {\"type\": \"circle\", \"size\": 100}, \"encoding\": {\"color\": {\"type\": \"nominal\", \"field\": \"type\", \"legend\": {\"direction\": \"horizontal\", \"fillColor\": \"white\", \"offset\": 5, \"orient\": \"top-left\", \"padding\": 5, \"strokeColor\": \"grey\", \"title\": null, \"titleBaseline\": \"middle\"}, \"scale\": {\"scheme\": \"tableau10\"}, \"title\": \"DNN Architecture\"}, \"text\": {\"type\": \"nominal\", \"field\": \"name\"}, \"x\": {\"type\": \"temporal\", \"field\": \"date\", \"scale\": {\"domain\": [\"2012-01-01T00:00:00\", \"2021-07-01T00:00:00\"]}, \"title\": \"Publication Date\"}, \"y\": {\"type\": \"quantitative\", \"axis\": {\"format\": \".0e\"}, \"field\": \"pflopsdays\", \"scale\": {\"base\": 10, \"type\": \"log\", \"zero\": false}, \"title\": \"Training Cost (Petaflops/s-days)\"}}, \"height\": 240, \"selection\": {\"selector001\": {\"type\": \"interval\", \"bind\": \"scales\", \"encodings\": [\"x\", \"y\"]}}, \"width\": 320}, {\"mark\": {\"type\": \"text\", \"align\": \"left\", \"baseline\": \"middle\", \"dx\": 7, \"fontSize\": 10}, \"encoding\": {\"color\": {\"type\": \"nominal\", \"field\": \"type\", \"legend\": {\"direction\": \"horizontal\", \"fillColor\": \"white\", \"offset\": 5, \"orient\": \"top-left\", \"padding\": 5, \"strokeColor\": \"grey\", \"title\": null, \"titleBaseline\": \"middle\"}, \"scale\": {\"scheme\": \"tableau10\"}, \"title\": \"DNN Architecture\"}, \"text\": {\"type\": \"nominal\", \"field\": \"name\"}, \"x\": {\"type\": \"temporal\", \"field\": \"date\", \"scale\": {\"domain\": [\"2012-01-01T00:00:00\", \"2021-07-01T00:00:00\"]}, \"title\": \"Publication Date\"}, \"y\": {\"type\": \"quantitative\", \"axis\": {\"format\": \".0e\"}, \"field\": \"pflopsdays\", \"scale\": {\"base\": 10, \"type\": \"log\", \"zero\": false}, \"title\": \"Training Cost (Petaflops/s-days)\"}}, \"height\": 240, \"transform\": [{\"filter\": \"(datum.type === 'CNN')\"}], \"width\": 320}, {\"mark\": {\"type\": \"text\", \"align\": \"left\", \"baseline\": \"middle\", \"dx\": 7, \"fontSize\": 10}, \"encoding\": {\"color\": {\"type\": \"nominal\", \"field\": \"type\", \"legend\": {\"direction\": \"horizontal\", \"fillColor\": \"white\", \"offset\": 5, \"orient\": \"top-left\", \"padding\": 5, \"strokeColor\": \"grey\", \"title\": null, \"titleBaseline\": \"middle\"}, \"scale\": {\"scheme\": \"tableau10\"}, \"title\": \"DNN Architecture\"}, \"text\": {\"type\": \"nominal\", \"field\": \"name\"}, \"x\": {\"type\": \"temporal\", \"field\": \"date\", \"scale\": {\"domain\": [\"2012-01-01T00:00:00\", \"2021-07-01T00:00:00\"]}, \"title\": \"Publication Date\"}, \"y\": {\"type\": \"quantitative\", \"axis\": {\"format\": \".0e\"}, \"field\": \"pflopsdays\", \"scale\": {\"base\": 10, \"type\": \"log\", \"zero\": false}, \"title\": \"Training Cost (Petaflops/s-days)\"}}, \"height\": 240, \"transform\": [{\"filter\": \"(datum.type === 'Transformer')\"}], \"width\": 320}, {\"mark\": {\"type\": \"text\", \"align\": \"right\", \"baseline\": \"middle\", \"dx\": -7, \"fontSize\": 10}, \"encoding\": {\"color\": {\"type\": \"nominal\", \"field\": \"type\", \"legend\": {\"direction\": \"horizontal\", \"fillColor\": \"white\", \"offset\": 5, \"orient\": \"top-left\", \"padding\": 5, \"strokeColor\": \"grey\", \"title\": null, \"titleBaseline\": \"middle\"}, \"scale\": {\"scheme\": \"tableau10\"}, \"title\": \"DNN Architecture\"}, \"text\": {\"type\": \"nominal\", \"field\": \"name\"}, \"x\": {\"type\": \"temporal\", \"field\": \"date\", \"scale\": {\"domain\": [\"2012-01-01T00:00:00\", \"2021-07-01T00:00:00\"]}, \"title\": \"Publication Date\"}, \"y\": {\"type\": \"quantitative\", \"axis\": {\"format\": \".0e\"}, \"field\": \"pflopsdays\", \"scale\": {\"base\": 10, \"type\": \"log\", \"zero\": false}, \"title\": \"Training Cost (Petaflops/s-days)\"}}, \"height\": 240, \"transform\": [{\"filter\": \"(datum.type === 'RNN')\"}], \"width\": 320}], \"data\": {\"name\": \"data-8712e5ad7620bef5883af795c72c3b65\"}, \"$schema\": \"https://vega.github.io/schema/vega-lite/v4.8.1.json\", \"datasets\": {\"data-8712e5ad7620bef5883af795c72c3b65\": [{\"name\": \"AlexNet\", \"type\": \"CNN\", \"pflopsdays\": 0.0054, \"date\": \"2012-04-01T00:00:00\"}, {\"name\": \"VGG\", \"type\": \"CNN\", \"pflopsdays\": 0.12, \"date\": \"2014-09-04T00:00:00\"}, {\"name\": \"Seq2Seq\", \"type\": \"RNN\", \"pflopsdays\": 0.093, \"date\": \"2014-09-10T00:00:00\"}, {\"name\": \"GoogLeNet\", \"type\": \"CNN\", \"pflopsdays\": 0.012, \"date\": \"2014-09-17T00:00:00\"}, {\"name\": \"DeepSpeech2\", \"type\": \"RNN\", \"pflopsdays\": 0.25, \"date\": \"2015-12-08T00:00:00\"}, {\"name\": \"ResNet\", \"type\": \"CNN\", \"pflopsdays\": 0.1, \"date\": \"2016-03-16T00:00:00\"}, {\"name\": \"Neural Machine Translation\", \"type\": \"RNN\", \"pflopsdays\": 79.0, \"date\": \"2016-09-26T00:00:00\"}, {\"name\": \"Xception\", \"type\": \"CNN\", \"pflopsdays\": 5.0, \"date\": \"2016-10-07T00:00:00\"}, {\"name\": \"Neural Architecture Search\", \"type\": \"CNN\", \"pflopsdays\": 31.0, \"date\": \"2016-11-05T00:00:00\"}, {\"name\": \"Transformer\", \"type\": \"Transformer\", \"pflopsdays\": 0.089, \"date\": \"2017-06-12T00:00:00\"}, {\"name\": \"BERT\", \"type\": \"Transformer\", \"pflopsdays\": 1.89, \"date\": \"2018-10-11T00:00:00\"}, {\"name\": \"GPT-2\", \"type\": \"Transformer\", \"pflopsdays\": 10.0, \"date\": \"2019-02-11T00:00:00\"}, {\"name\": \"GPT-3\", \"type\": \"Transformer\", \"pflopsdays\": 3640.0, \"date\": \"2020-05-28T00:00:00\"}]}}, {\"mode\": \"vega-lite\"});\n",
              "</script>"
            ]
          },
          "metadata": {
            "tags": []
          },
          "execution_count": 14
        }
      ]
    },
    {
      "cell_type": "code",
      "metadata": {
        "id": "wwNd9P0U9mKG"
      },
      "source": [
        "#data_years=pd.DataFrame({'year': pd.to_datetime(dataframe['date'].dt.year.unique(), format='%Y')})\n",
        "data_years=pd.DataFrame({'year': pd.to_datetime(range(2012, 2022), format='%Y'), 'label': ['',]*(len(range(2012,2022))-1)+ ['Moore\\'s Law']})"
      ],
      "execution_count": 15,
      "outputs": []
    },
    {
      "cell_type": "code",
      "metadata": {
        "id": "Y6No92iyfw_V",
        "outputId": "3a8951ff-b314-4dc8-8d26-17bc347d23d2",
        "colab": {
          "base_uri": "https://localhost:8080/",
          "height": 308
        }
      },
      "source": [
        "moores = alt.Chart(data_years, width=320, height=240).transform_calculate(\n",
        "    moore='2500*pow(2, (year(datum.year) - 1972)/2)',\n",
        ").encode(\n",
        "    x=alt.X('year:T', title='Year'),\n",
        "    y=alt.Y('moore:Q', axis=alt.Axis(format='.0e'), title='CPU Transistors'),\n",
        ").mark_line(size=2, color='gray', strokeDash=[5])\n",
        "\n",
        "moores_label = alt.Chart(data_years, width=320, height=240).transform_calculate(\n",
        "    moore='2500*pow(2, (year(datum.year) - 1972)/2)',\n",
        ").encode(\n",
        "    x='max(year):T',\n",
        "    y=alt.Y('moore:Q'),\n",
        "    text='label',\n",
        ").mark_text(align='right', dx=-10, dy=-7, angle=297, color='gray',)\n",
        "\n",
        "chart = (moores+moores_label).configure_axis(\n",
        "    gridColor='lightgrey',\n",
        "    gridOpacity=0.33,\n",
        "    labelFont='Roboto-Regular',\n",
        "    titleFont='Roboto-Regular',\n",
        ")\n",
        "\n",
        "chart.interactive()"
      ],
      "execution_count": 16,
      "outputs": [
        {
          "output_type": "execute_result",
          "data": {
            "text/plain": [
              "alt.LayerChart(...)"
            ],
            "text/html": [
              "\n",
              "<div id=\"altair-viz-8dd382c7e5e843a187172be4752d4f66\"></div>\n",
              "<script type=\"text/javascript\">\n",
              "  (function(spec, embedOpt){\n",
              "    let outputDiv = document.currentScript.previousElementSibling;\n",
              "    if (outputDiv.id !== \"altair-viz-8dd382c7e5e843a187172be4752d4f66\") {\n",
              "      outputDiv = document.getElementById(\"altair-viz-8dd382c7e5e843a187172be4752d4f66\");\n",
              "    }\n",
              "    const paths = {\n",
              "      \"vega\": \"https://cdn.jsdelivr.net/npm//vega@5?noext\",\n",
              "      \"vega-lib\": \"https://cdn.jsdelivr.net/npm//vega-lib?noext\",\n",
              "      \"vega-lite\": \"https://cdn.jsdelivr.net/npm//vega-lite@4.8.1?noext\",\n",
              "      \"vega-embed\": \"https://cdn.jsdelivr.net/npm//vega-embed@6?noext\",\n",
              "    };\n",
              "\n",
              "    function loadScript(lib) {\n",
              "      return new Promise(function(resolve, reject) {\n",
              "        var s = document.createElement('script');\n",
              "        s.src = paths[lib];\n",
              "        s.async = true;\n",
              "        s.onload = () => resolve(paths[lib]);\n",
              "        s.onerror = () => reject(`Error loading script: ${paths[lib]}`);\n",
              "        document.getElementsByTagName(\"head\")[0].appendChild(s);\n",
              "      });\n",
              "    }\n",
              "\n",
              "    function showError(err) {\n",
              "      outputDiv.innerHTML = `<div class=\"error\" style=\"color:red;\">${err}</div>`;\n",
              "      throw err;\n",
              "    }\n",
              "\n",
              "    function displayChart(vegaEmbed) {\n",
              "      vegaEmbed(outputDiv, spec, embedOpt)\n",
              "        .catch(err => showError(`Javascript Error: ${err.message}<br>This usually means there's a typo in your chart specification. See the javascript console for the full traceback.`));\n",
              "    }\n",
              "\n",
              "    if(typeof define === \"function\" && define.amd) {\n",
              "      requirejs.config({paths});\n",
              "      require([\"vega-embed\"], displayChart, err => showError(`Error loading script: ${err.message}`));\n",
              "    } else if (typeof vegaEmbed === \"function\") {\n",
              "      displayChart(vegaEmbed);\n",
              "    } else {\n",
              "      loadScript(\"vega\")\n",
              "        .then(() => loadScript(\"vega-lite\"))\n",
              "        .then(() => loadScript(\"vega-embed\"))\n",
              "        .catch(showError)\n",
              "        .then(() => displayChart(vegaEmbed));\n",
              "    }\n",
              "  })({\"config\": {\"view\": {\"continuousWidth\": 400, \"continuousHeight\": 300}, \"axis\": {\"gridColor\": \"lightgrey\", \"gridOpacity\": 0.33, \"labelFont\": \"Roboto-Regular\", \"titleFont\": \"Roboto-Regular\"}}, \"layer\": [{\"mark\": {\"type\": \"line\", \"color\": \"gray\", \"size\": 2, \"strokeDash\": [5]}, \"encoding\": {\"x\": {\"type\": \"temporal\", \"field\": \"year\", \"title\": \"Year\"}, \"y\": {\"type\": \"quantitative\", \"axis\": {\"format\": \".0e\"}, \"field\": \"moore\", \"title\": \"CPU Transistors\"}}, \"height\": 240, \"selection\": {\"selector002\": {\"type\": \"interval\", \"bind\": \"scales\", \"encodings\": [\"x\", \"y\"]}}, \"transform\": [{\"calculate\": \"2500*pow(2, (year(datum.year) - 1972)/2)\", \"as\": \"moore\"}], \"width\": 320}, {\"mark\": {\"type\": \"text\", \"align\": \"right\", \"angle\": 297, \"color\": \"gray\", \"dx\": -10, \"dy\": -7}, \"encoding\": {\"text\": {\"type\": \"nominal\", \"field\": \"label\"}, \"x\": {\"type\": \"temporal\", \"aggregate\": \"max\", \"field\": \"year\"}, \"y\": {\"type\": \"quantitative\", \"field\": \"moore\"}}, \"height\": 240, \"transform\": [{\"calculate\": \"2500*pow(2, (year(datum.year) - 1972)/2)\", \"as\": \"moore\"}], \"width\": 320}], \"data\": {\"name\": \"data-b412f8e0a903549d727c5fa78d76affb\"}, \"$schema\": \"https://vega.github.io/schema/vega-lite/v4.8.1.json\", \"datasets\": {\"data-b412f8e0a903549d727c5fa78d76affb\": [{\"year\": \"2012-01-01T00:00:00\", \"label\": \"\"}, {\"year\": \"2013-01-01T00:00:00\", \"label\": \"\"}, {\"year\": \"2014-01-01T00:00:00\", \"label\": \"\"}, {\"year\": \"2015-01-01T00:00:00\", \"label\": \"\"}, {\"year\": \"2016-01-01T00:00:00\", \"label\": \"\"}, {\"year\": \"2017-01-01T00:00:00\", \"label\": \"\"}, {\"year\": \"2018-01-01T00:00:00\", \"label\": \"\"}, {\"year\": \"2019-01-01T00:00:00\", \"label\": \"\"}, {\"year\": \"2020-01-01T00:00:00\", \"label\": \"\"}, {\"year\": \"2021-01-01T00:00:00\", \"label\": \"Moore's Law\"}]}}, {\"mode\": \"vega-lite\"});\n",
              "</script>"
            ]
          },
          "metadata": {
            "tags": []
          },
          "execution_count": 16
        }
      ]
    },
    {
      "cell_type": "code",
      "metadata": {
        "id": "a-PVsb_BZIsL",
        "outputId": "b247dc15-ab05-40d2-d2e3-cbe57891ac12",
        "colab": {
          "base_uri": "https://localhost:8080/",
          "height": 308
        }
      },
      "source": [
        "base=alt.Chart(dataframe, width=320, height=240).transform_calculate(\n",
        "    costpercent=\"datum.pflopsdays / 0.00540\",\n",
        ").encode(\n",
        "    alt.X('date:T', title='Date', scale=alt.Scale(domain=[pd.to_datetime('1/4/2012', format='%d/%m/%Y'), pd.to_datetime('1/7/2021', format='%d/%m/%Y')])),\n",
        "    alt.Y('costpercent:Q', axis=alt.Axis(format='.0e'), scale=alt.Scale(type='log', base=10, zero=False, padding=0)),#, title='Training Cost Ratio (relative to AlexNet)'\n",
        "    text='name:N'\n",
        ")\n",
        "\n",
        "points=base.encode(\n",
        "    alt.Color('type:N', scale=alt.Scale(scheme=color_scheme), legend=alt.Legend(orient='top-left', offset=5, fillColor='white', padding=5, strokeColor='grey', direction='horizontal', title=None, titleBaseline='middle'), title='DNN Architecture'),\n",
        ").mark_circle(size=100)\n",
        "\n",
        "moores = alt.Chart(data_years, width=320, height=240).transform_calculate(\n",
        "    moore='2500*pow(2, (year(datum.year) - 1972)/2)',\n",
        ").transform_calculate(\n",
        "    moorepercent='datum.moore/(2500*pow(2, (2012 - 1972)/2))'\n",
        ").encode(\n",
        "    alt.X('year:T', title='Date'),\n",
        "    alt.Y('moorepercent:Q', scale=alt.Scale(type='log', base=10, zero=False), axis=alt.Axis(format='.0e'), title='Training Cost/Transistor Increase Factor'),\n",
        "    text='label',\n",
        ").mark_line(size=2, color='lightgray', strokeDash=[5])\n",
        "\n",
        "moores_label = moores.mark_text(align='right', color='gray', dx=-50, dy=10, angle=350)\n",
        "\n",
        "annotations_nn = points.transform_filter(\n",
        "    datum.type == 'NN'\n",
        ").mark_text(\n",
        "    align='left',\n",
        "    baseline='middle',\n",
        "    fontSize = 10,\n",
        "    dx = 7,\n",
        ")\n",
        "\n",
        "annotations_cnn = points.transform_filter(\n",
        "    datum.type == 'CNN'\n",
        ").mark_text(\n",
        "    align='left',\n",
        "    baseline='bottom',\n",
        "    fontSize = 10,\n",
        "    dx = 7,\n",
        ")\n",
        "\n",
        "annotations_transformer = points.transform_filter(\n",
        "    datum.type == 'Transformer'\n",
        ").mark_text(\n",
        "    align='left',\n",
        "    baseline='middle',\n",
        "    fontSize = 10,\n",
        "    dx = 7,\n",
        ")\n",
        "\n",
        "annotations_rnn = points.transform_filter(\n",
        "    datum.type == 'RNN'\n",
        ").mark_text(\n",
        "    align='right',\n",
        "    baseline='bottom',\n",
        "    fontSize = 10,\n",
        "    dx = -7,\n",
        ")\n",
        "\n",
        "chart = (\n",
        "    moores+moores_label+points+annotations_cnn+annotations_transformer+annotations_rnn\n",
        ").resolve_scale(y='shared').resolve_legend(shape='independent').configure_axis(\n",
        "    gridColor='lightgrey',\n",
        "    gridOpacity=0.33,\n",
        "    labelFont='Roboto-Regular',\n",
        "    titleFont='Roboto-Regular',\n",
        ")\n",
        "\n",
        "chart.interactive()"
      ],
      "execution_count": 17,
      "outputs": [
        {
          "output_type": "execute_result",
          "data": {
            "text/plain": [
              "alt.LayerChart(...)"
            ],
            "text/html": [
              "\n",
              "<div id=\"altair-viz-5aa02363afc44dc48077a7277570b42d\"></div>\n",
              "<script type=\"text/javascript\">\n",
              "  (function(spec, embedOpt){\n",
              "    let outputDiv = document.currentScript.previousElementSibling;\n",
              "    if (outputDiv.id !== \"altair-viz-5aa02363afc44dc48077a7277570b42d\") {\n",
              "      outputDiv = document.getElementById(\"altair-viz-5aa02363afc44dc48077a7277570b42d\");\n",
              "    }\n",
              "    const paths = {\n",
              "      \"vega\": \"https://cdn.jsdelivr.net/npm//vega@5?noext\",\n",
              "      \"vega-lib\": \"https://cdn.jsdelivr.net/npm//vega-lib?noext\",\n",
              "      \"vega-lite\": \"https://cdn.jsdelivr.net/npm//vega-lite@4.8.1?noext\",\n",
              "      \"vega-embed\": \"https://cdn.jsdelivr.net/npm//vega-embed@6?noext\",\n",
              "    };\n",
              "\n",
              "    function loadScript(lib) {\n",
              "      return new Promise(function(resolve, reject) {\n",
              "        var s = document.createElement('script');\n",
              "        s.src = paths[lib];\n",
              "        s.async = true;\n",
              "        s.onload = () => resolve(paths[lib]);\n",
              "        s.onerror = () => reject(`Error loading script: ${paths[lib]}`);\n",
              "        document.getElementsByTagName(\"head\")[0].appendChild(s);\n",
              "      });\n",
              "    }\n",
              "\n",
              "    function showError(err) {\n",
              "      outputDiv.innerHTML = `<div class=\"error\" style=\"color:red;\">${err}</div>`;\n",
              "      throw err;\n",
              "    }\n",
              "\n",
              "    function displayChart(vegaEmbed) {\n",
              "      vegaEmbed(outputDiv, spec, embedOpt)\n",
              "        .catch(err => showError(`Javascript Error: ${err.message}<br>This usually means there's a typo in your chart specification. See the javascript console for the full traceback.`));\n",
              "    }\n",
              "\n",
              "    if(typeof define === \"function\" && define.amd) {\n",
              "      requirejs.config({paths});\n",
              "      require([\"vega-embed\"], displayChart, err => showError(`Error loading script: ${err.message}`));\n",
              "    } else if (typeof vegaEmbed === \"function\") {\n",
              "      displayChart(vegaEmbed);\n",
              "    } else {\n",
              "      loadScript(\"vega\")\n",
              "        .then(() => loadScript(\"vega-lite\"))\n",
              "        .then(() => loadScript(\"vega-embed\"))\n",
              "        .catch(showError)\n",
              "        .then(() => displayChart(vegaEmbed));\n",
              "    }\n",
              "  })({\"config\": {\"view\": {\"continuousWidth\": 400, \"continuousHeight\": 300}, \"axis\": {\"gridColor\": \"lightgrey\", \"gridOpacity\": 0.33, \"labelFont\": \"Roboto-Regular\", \"titleFont\": \"Roboto-Regular\"}}, \"layer\": [{\"mark\": {\"type\": \"line\", \"color\": \"lightgray\", \"size\": 2, \"strokeDash\": [5]}, \"encoding\": {\"text\": {\"type\": \"nominal\", \"field\": \"label\"}, \"x\": {\"type\": \"temporal\", \"field\": \"year\", \"title\": \"Date\"}, \"y\": {\"type\": \"quantitative\", \"axis\": {\"format\": \".0e\"}, \"field\": \"moorepercent\", \"scale\": {\"base\": 10, \"type\": \"log\", \"zero\": false}, \"title\": \"Training Cost/Transistor Increase Factor\"}}, \"height\": 240, \"selection\": {\"selector003\": {\"type\": \"interval\", \"bind\": \"scales\", \"encodings\": [\"x\", \"y\"]}}, \"transform\": [{\"calculate\": \"2500*pow(2, (year(datum.year) - 1972)/2)\", \"as\": \"moore\"}, {\"calculate\": \"datum.moore/(2500*pow(2, (2012 - 1972)/2))\", \"as\": \"moorepercent\"}], \"width\": 320}, {\"mark\": {\"type\": \"text\", \"align\": \"right\", \"angle\": 350, \"color\": \"gray\", \"dx\": -50, \"dy\": 10}, \"encoding\": {\"text\": {\"type\": \"nominal\", \"field\": \"label\"}, \"x\": {\"type\": \"temporal\", \"field\": \"year\", \"title\": \"Date\"}, \"y\": {\"type\": \"quantitative\", \"axis\": {\"format\": \".0e\"}, \"field\": \"moorepercent\", \"scale\": {\"base\": 10, \"type\": \"log\", \"zero\": false}, \"title\": \"Training Cost/Transistor Increase Factor\"}}, \"height\": 240, \"transform\": [{\"calculate\": \"2500*pow(2, (year(datum.year) - 1972)/2)\", \"as\": \"moore\"}, {\"calculate\": \"datum.moore/(2500*pow(2, (2012 - 1972)/2))\", \"as\": \"moorepercent\"}], \"width\": 320}, {\"data\": {\"name\": \"data-8712e5ad7620bef5883af795c72c3b65\"}, \"mark\": {\"type\": \"circle\", \"size\": 100}, \"encoding\": {\"color\": {\"type\": \"nominal\", \"field\": \"type\", \"legend\": {\"direction\": \"horizontal\", \"fillColor\": \"white\", \"offset\": 5, \"orient\": \"top-left\", \"padding\": 5, \"strokeColor\": \"grey\", \"title\": null, \"titleBaseline\": \"middle\"}, \"scale\": {\"scheme\": \"tableau10\"}, \"title\": \"DNN Architecture\"}, \"text\": {\"type\": \"nominal\", \"field\": \"name\"}, \"x\": {\"type\": \"temporal\", \"field\": \"date\", \"scale\": {\"domain\": [\"2012-04-01T00:00:00\", \"2021-07-01T00:00:00\"]}, \"title\": \"Date\"}, \"y\": {\"type\": \"quantitative\", \"axis\": {\"format\": \".0e\"}, \"field\": \"costpercent\", \"scale\": {\"base\": 10, \"padding\": 0, \"type\": \"log\", \"zero\": false}}}, \"height\": 240, \"transform\": [{\"calculate\": \"datum.pflopsdays / 0.00540\", \"as\": \"costpercent\"}], \"width\": 320}, {\"data\": {\"name\": \"data-8712e5ad7620bef5883af795c72c3b65\"}, \"mark\": {\"type\": \"text\", \"align\": \"left\", \"baseline\": \"bottom\", \"dx\": 7, \"fontSize\": 10}, \"encoding\": {\"color\": {\"type\": \"nominal\", \"field\": \"type\", \"legend\": {\"direction\": \"horizontal\", \"fillColor\": \"white\", \"offset\": 5, \"orient\": \"top-left\", \"padding\": 5, \"strokeColor\": \"grey\", \"title\": null, \"titleBaseline\": \"middle\"}, \"scale\": {\"scheme\": \"tableau10\"}, \"title\": \"DNN Architecture\"}, \"text\": {\"type\": \"nominal\", \"field\": \"name\"}, \"x\": {\"type\": \"temporal\", \"field\": \"date\", \"scale\": {\"domain\": [\"2012-04-01T00:00:00\", \"2021-07-01T00:00:00\"]}, \"title\": \"Date\"}, \"y\": {\"type\": \"quantitative\", \"axis\": {\"format\": \".0e\"}, \"field\": \"costpercent\", \"scale\": {\"base\": 10, \"padding\": 0, \"type\": \"log\", \"zero\": false}}}, \"height\": 240, \"transform\": [{\"calculate\": \"datum.pflopsdays / 0.00540\", \"as\": \"costpercent\"}, {\"filter\": \"(datum.type === 'CNN')\"}], \"width\": 320}, {\"data\": {\"name\": \"data-8712e5ad7620bef5883af795c72c3b65\"}, \"mark\": {\"type\": \"text\", \"align\": \"left\", \"baseline\": \"middle\", \"dx\": 7, \"fontSize\": 10}, \"encoding\": {\"color\": {\"type\": \"nominal\", \"field\": \"type\", \"legend\": {\"direction\": \"horizontal\", \"fillColor\": \"white\", \"offset\": 5, \"orient\": \"top-left\", \"padding\": 5, \"strokeColor\": \"grey\", \"title\": null, \"titleBaseline\": \"middle\"}, \"scale\": {\"scheme\": \"tableau10\"}, \"title\": \"DNN Architecture\"}, \"text\": {\"type\": \"nominal\", \"field\": \"name\"}, \"x\": {\"type\": \"temporal\", \"field\": \"date\", \"scale\": {\"domain\": [\"2012-04-01T00:00:00\", \"2021-07-01T00:00:00\"]}, \"title\": \"Date\"}, \"y\": {\"type\": \"quantitative\", \"axis\": {\"format\": \".0e\"}, \"field\": \"costpercent\", \"scale\": {\"base\": 10, \"padding\": 0, \"type\": \"log\", \"zero\": false}}}, \"height\": 240, \"transform\": [{\"calculate\": \"datum.pflopsdays / 0.00540\", \"as\": \"costpercent\"}, {\"filter\": \"(datum.type === 'Transformer')\"}], \"width\": 320}, {\"data\": {\"name\": \"data-8712e5ad7620bef5883af795c72c3b65\"}, \"mark\": {\"type\": \"text\", \"align\": \"right\", \"baseline\": \"bottom\", \"dx\": -7, \"fontSize\": 10}, \"encoding\": {\"color\": {\"type\": \"nominal\", \"field\": \"type\", \"legend\": {\"direction\": \"horizontal\", \"fillColor\": \"white\", \"offset\": 5, \"orient\": \"top-left\", \"padding\": 5, \"strokeColor\": \"grey\", \"title\": null, \"titleBaseline\": \"middle\"}, \"scale\": {\"scheme\": \"tableau10\"}, \"title\": \"DNN Architecture\"}, \"text\": {\"type\": \"nominal\", \"field\": \"name\"}, \"x\": {\"type\": \"temporal\", \"field\": \"date\", \"scale\": {\"domain\": [\"2012-04-01T00:00:00\", \"2021-07-01T00:00:00\"]}, \"title\": \"Date\"}, \"y\": {\"type\": \"quantitative\", \"axis\": {\"format\": \".0e\"}, \"field\": \"costpercent\", \"scale\": {\"base\": 10, \"padding\": 0, \"type\": \"log\", \"zero\": false}}}, \"height\": 240, \"transform\": [{\"calculate\": \"datum.pflopsdays / 0.00540\", \"as\": \"costpercent\"}, {\"filter\": \"(datum.type === 'RNN')\"}], \"width\": 320}], \"data\": {\"name\": \"data-b412f8e0a903549d727c5fa78d76affb\"}, \"resolve\": {\"legend\": {\"shape\": \"independent\"}, \"scale\": {\"y\": \"shared\"}}, \"$schema\": \"https://vega.github.io/schema/vega-lite/v4.8.1.json\", \"datasets\": {\"data-b412f8e0a903549d727c5fa78d76affb\": [{\"year\": \"2012-01-01T00:00:00\", \"label\": \"\"}, {\"year\": \"2013-01-01T00:00:00\", \"label\": \"\"}, {\"year\": \"2014-01-01T00:00:00\", \"label\": \"\"}, {\"year\": \"2015-01-01T00:00:00\", \"label\": \"\"}, {\"year\": \"2016-01-01T00:00:00\", \"label\": \"\"}, {\"year\": \"2017-01-01T00:00:00\", \"label\": \"\"}, {\"year\": \"2018-01-01T00:00:00\", \"label\": \"\"}, {\"year\": \"2019-01-01T00:00:00\", \"label\": \"\"}, {\"year\": \"2020-01-01T00:00:00\", \"label\": \"\"}, {\"year\": \"2021-01-01T00:00:00\", \"label\": \"Moore's Law\"}], \"data-8712e5ad7620bef5883af795c72c3b65\": [{\"name\": \"AlexNet\", \"type\": \"CNN\", \"pflopsdays\": 0.0054, \"date\": \"2012-04-01T00:00:00\"}, {\"name\": \"VGG\", \"type\": \"CNN\", \"pflopsdays\": 0.12, \"date\": \"2014-09-04T00:00:00\"}, {\"name\": \"Seq2Seq\", \"type\": \"RNN\", \"pflopsdays\": 0.093, \"date\": \"2014-09-10T00:00:00\"}, {\"name\": \"GoogLeNet\", \"type\": \"CNN\", \"pflopsdays\": 0.012, \"date\": \"2014-09-17T00:00:00\"}, {\"name\": \"DeepSpeech2\", \"type\": \"RNN\", \"pflopsdays\": 0.25, \"date\": \"2015-12-08T00:00:00\"}, {\"name\": \"ResNet\", \"type\": \"CNN\", \"pflopsdays\": 0.1, \"date\": \"2016-03-16T00:00:00\"}, {\"name\": \"Neural Machine Translation\", \"type\": \"RNN\", \"pflopsdays\": 79.0, \"date\": \"2016-09-26T00:00:00\"}, {\"name\": \"Xception\", \"type\": \"CNN\", \"pflopsdays\": 5.0, \"date\": \"2016-10-07T00:00:00\"}, {\"name\": \"Neural Architecture Search\", \"type\": \"CNN\", \"pflopsdays\": 31.0, \"date\": \"2016-11-05T00:00:00\"}, {\"name\": \"Transformer\", \"type\": \"Transformer\", \"pflopsdays\": 0.089, \"date\": \"2017-06-12T00:00:00\"}, {\"name\": \"BERT\", \"type\": \"Transformer\", \"pflopsdays\": 1.89, \"date\": \"2018-10-11T00:00:00\"}, {\"name\": \"GPT-2\", \"type\": \"Transformer\", \"pflopsdays\": 10.0, \"date\": \"2019-02-11T00:00:00\"}, {\"name\": \"GPT-3\", \"type\": \"Transformer\", \"pflopsdays\": 3640.0, \"date\": \"2020-05-28T00:00:00\"}]}}, {\"mode\": \"vega-lite\"});\n",
              "</script>"
            ]
          },
          "metadata": {
            "tags": []
          },
          "execution_count": 17
        }
      ]
    },
    {
      "cell_type": "code",
      "metadata": {
        "id": "wi6sVCOFHVV-",
        "outputId": "fb55157c-637c-471b-a338-563f9db8b2ca",
        "colab": {
          "base_uri": "https://localhost:8080/"
        }
      },
      "source": [
        "#alt.renderers.enable('altair_saver', ['vega-lite', 'png'])\n",
        "from altair_saver import save\n",
        "for fmt in ['json', 'vg.json', 'html', 'png', 'svg', 'pdf']:\n",
        "  save(chart, f'chart.{fmt}')\n",
        "!ls -lh chart.*"
      ],
      "execution_count": 18,
      "outputs": [
        {
          "output_type": "stream",
          "text": [
            "WARN text dropped as it is incompatible with \"line\".\n",
            "WARN text dropped as it is incompatible with \"circle\".\n",
            "WARN y-scale's \"zero\" is dropped as it does not work with log scale.\n",
            "WARN y-scale's \"zero\" is dropped as it does not work with log scale.\n",
            "WARN y-scale's \"zero\" is dropped as it does not work with log scale.\n",
            "WARN y-scale's \"zero\" is dropped as it does not work with log scale.\n",
            "WARN y-scale's \"zero\" is dropped as it does not work with log scale.\n",
            "WARN y-scale's \"zero\" is dropped as it does not work with log scale.\n"
          ],
          "name": "stderr"
        },
        {
          "output_type": "stream",
          "text": [
            "-rw-r--r-- 1 root root 7.4K Nov 15 18:39 chart.html\n",
            "-rw-r--r-- 1 root root  12K Nov 15 18:39 chart.json\n",
            "-rw-r--r-- 1 root root  22K Nov 15 18:39 chart.pdf\n",
            "-rw-r--r-- 1 root root  33K Nov 15 18:39 chart.png\n",
            "-rw-r--r-- 1 root root  39K Nov 15 18:39 chart.svg\n",
            "-rw-r--r-- 1 root root  14K Nov 15 18:39 chart.vg.json\n"
          ],
          "name": "stdout"
        }
      ]
    },
    {
      "cell_type": "markdown",
      "metadata": {
        "id": "X9U4IzZfRvJG"
      },
      "source": [
        "# Bokeh Plot"
      ]
    },
    {
      "cell_type": "code",
      "metadata": {
        "id": "Pwzwx9LXTxm6"
      },
      "source": [
        "from bokeh.io import output_notebook\n",
        "from bokeh.plotting import figure, output_file, show, save\n",
        "from bokeh.models import ColumnDataSource, Label, LabelSet, Plot\n",
        "from bokeh.palettes import Spectral4 as colormap\n",
        "from bokeh.transform import factor_cmap\n",
        "\n",
        "# Call once to configure Bokeh to display plots inline in the notebook.\n",
        "output_notebook()\n",
        "BOKEH_RESOURCES='inline'"
      ],
      "execution_count": 19,
      "outputs": []
    },
    {
      "cell_type": "code",
      "metadata": {
        "id": "mBdrbm5MuGV1"
      },
      "source": [
        "source = ColumnDataSource(dataframe)"
      ],
      "execution_count": 20,
      "outputs": []
    },
    {
      "cell_type": "code",
      "metadata": {
        "id": "sKWzvUbQZ1iN",
        "cellView": "code",
        "outputId": "e40c1adf-0e15-49e4-c3f4-91d8596b0938",
        "colab": {
          "base_uri": "https://localhost:8080/",
          "height": 617
        }
      },
      "source": [
        "#@title Default title text\n",
        "p = figure(x_axis_type=\"datetime\", y_axis_type=\"log\", \n",
        "           x_axis_label='Date Published',\n",
        "           y_axis_label='Training Cost (Petaflops/s-days)')\n",
        "p.circle(x='date', y='pflopsdays', source=source, size=8,  legend_field='type',\n",
        "         color=factor_cmap('type', palette=colormap,\n",
        "                           factors=['CNN', 'NN', 'RNN', 'Transformer']))\n",
        "labels = LabelSet(x='date', y='pflopsdays', text='name',\n",
        "                  x_offset=5, y_offset=0, source=source, text_font_size='0.8em')\n",
        "p.add_layout(labels)\n",
        "p.legend.orientation = \"horizontal\"\n",
        "p.legend.location = \"top_center\"\n",
        "\n",
        "p.output_backend = \"svg\"\n",
        "show(p)"
      ],
      "execution_count": 21,
      "outputs": [
        {
          "output_type": "display_data",
          "data": {
            "application/javascript": [
              "\n",
              "(function(root) {\n",
              "  function now() {\n",
              "    return new Date();\n",
              "  }\n",
              "\n",
              "  var force = true;\n",
              "\n",
              "  if (typeof root._bokeh_onload_callbacks === \"undefined\" || force === true) {\n",
              "    root._bokeh_onload_callbacks = [];\n",
              "    root._bokeh_is_loading = undefined;\n",
              "  }\n",
              "\n",
              "  var JS_MIME_TYPE = 'application/javascript';\n",
              "  var HTML_MIME_TYPE = 'text/html';\n",
              "  var EXEC_MIME_TYPE = 'application/vnd.bokehjs_exec.v0+json';\n",
              "  var CLASS_NAME = 'output_bokeh rendered_html';\n",
              "\n",
              "  /**\n",
              "   * Render data to the DOM node\n",
              "   */\n",
              "  function render(props, node) {\n",
              "    var script = document.createElement(\"script\");\n",
              "    node.appendChild(script);\n",
              "  }\n",
              "\n",
              "  /**\n",
              "   * Handle when an output is cleared or removed\n",
              "   */\n",
              "  function handleClearOutput(event, handle) {\n",
              "    var cell = handle.cell;\n",
              "\n",
              "    var id = cell.output_area._bokeh_element_id;\n",
              "    var server_id = cell.output_area._bokeh_server_id;\n",
              "    // Clean up Bokeh references\n",
              "    if (id != null && id in Bokeh.index) {\n",
              "      Bokeh.index[id].model.document.clear();\n",
              "      delete Bokeh.index[id];\n",
              "    }\n",
              "\n",
              "    if (server_id !== undefined) {\n",
              "      // Clean up Bokeh references\n",
              "      var cmd = \"from bokeh.io.state import curstate; print(curstate().uuid_to_server['\" + server_id + \"'].get_sessions()[0].document.roots[0]._id)\";\n",
              "      cell.notebook.kernel.execute(cmd, {\n",
              "        iopub: {\n",
              "          output: function(msg) {\n",
              "            var id = msg.content.text.trim();\n",
              "            if (id in Bokeh.index) {\n",
              "              Bokeh.index[id].model.document.clear();\n",
              "              delete Bokeh.index[id];\n",
              "            }\n",
              "          }\n",
              "        }\n",
              "      });\n",
              "      // Destroy server and session\n",
              "      var cmd = \"import bokeh.io.notebook as ion; ion.destroy_server('\" + server_id + \"')\";\n",
              "      cell.notebook.kernel.execute(cmd);\n",
              "    }\n",
              "  }\n",
              "\n",
              "  /**\n",
              "   * Handle when a new output is added\n",
              "   */\n",
              "  function handleAddOutput(event, handle) {\n",
              "    var output_area = handle.output_area;\n",
              "    var output = handle.output;\n",
              "\n",
              "    // limit handleAddOutput to display_data with EXEC_MIME_TYPE content only\n",
              "    if ((output.output_type != \"display_data\") || (!output.data.hasOwnProperty(EXEC_MIME_TYPE))) {\n",
              "      return\n",
              "    }\n",
              "\n",
              "    var toinsert = output_area.element.find(\".\" + CLASS_NAME.split(' ')[0]);\n",
              "\n",
              "    if (output.metadata[EXEC_MIME_TYPE][\"id\"] !== undefined) {\n",
              "      toinsert[toinsert.length - 1].firstChild.textContent = output.data[JS_MIME_TYPE];\n",
              "      // store reference to embed id on output_area\n",
              "      output_area._bokeh_element_id = output.metadata[EXEC_MIME_TYPE][\"id\"];\n",
              "    }\n",
              "    if (output.metadata[EXEC_MIME_TYPE][\"server_id\"] !== undefined) {\n",
              "      var bk_div = document.createElement(\"div\");\n",
              "      bk_div.innerHTML = output.data[HTML_MIME_TYPE];\n",
              "      var script_attrs = bk_div.children[0].attributes;\n",
              "      for (var i = 0; i < script_attrs.length; i++) {\n",
              "        toinsert[toinsert.length - 1].firstChild.setAttribute(script_attrs[i].name, script_attrs[i].value);\n",
              "        toinsert[toinsert.length - 1].firstChild.textContent = bk_div.children[0].textContent\n",
              "      }\n",
              "      // store reference to server id on output_area\n",
              "      output_area._bokeh_server_id = output.metadata[EXEC_MIME_TYPE][\"server_id\"];\n",
              "    }\n",
              "  }\n",
              "\n",
              "  function register_renderer(events, OutputArea) {\n",
              "\n",
              "    function append_mime(data, metadata, element) {\n",
              "      // create a DOM node to render to\n",
              "      var toinsert = this.create_output_subarea(\n",
              "        metadata,\n",
              "        CLASS_NAME,\n",
              "        EXEC_MIME_TYPE\n",
              "      );\n",
              "      this.keyboard_manager.register_events(toinsert);\n",
              "      // Render to node\n",
              "      var props = {data: data, metadata: metadata[EXEC_MIME_TYPE]};\n",
              "      render(props, toinsert[toinsert.length - 1]);\n",
              "      element.append(toinsert);\n",
              "      return toinsert\n",
              "    }\n",
              "\n",
              "    /* Handle when an output is cleared or removed */\n",
              "    events.on('clear_output.CodeCell', handleClearOutput);\n",
              "    events.on('delete.Cell', handleClearOutput);\n",
              "\n",
              "    /* Handle when a new output is added */\n",
              "    events.on('output_added.OutputArea', handleAddOutput);\n",
              "\n",
              "    /**\n",
              "     * Register the mime type and append_mime function with output_area\n",
              "     */\n",
              "    OutputArea.prototype.register_mime_type(EXEC_MIME_TYPE, append_mime, {\n",
              "      /* Is output safe? */\n",
              "      safe: true,\n",
              "      /* Index of renderer in `output_area.display_order` */\n",
              "      index: 0\n",
              "    });\n",
              "  }\n",
              "\n",
              "  // register the mime type if in Jupyter Notebook environment and previously unregistered\n",
              "  if (root.Jupyter !== undefined) {\n",
              "    var events = require('base/js/events');\n",
              "    var OutputArea = require('notebook/js/outputarea').OutputArea;\n",
              "\n",
              "    if (OutputArea.prototype.mime_types().indexOf(EXEC_MIME_TYPE) == -1) {\n",
              "      register_renderer(events, OutputArea);\n",
              "    }\n",
              "  }\n",
              "\n",
              "  \n",
              "  if (typeof (root._bokeh_timeout) === \"undefined\" || force === true) {\n",
              "    root._bokeh_timeout = Date.now() + 5000;\n",
              "    root._bokeh_failed_load = false;\n",
              "  }\n",
              "\n",
              "  var NB_LOAD_WARNING = {'data': {'text/html':\n",
              "     \"<div style='background-color: #fdd'>\\n\"+\n",
              "     \"<p>\\n\"+\n",
              "     \"BokehJS does not appear to have successfully loaded. If loading BokehJS from CDN, this \\n\"+\n",
              "     \"may be due to a slow or bad network connection. Possible fixes:\\n\"+\n",
              "     \"</p>\\n\"+\n",
              "     \"<ul>\\n\"+\n",
              "     \"<li>re-rerun `output_notebook()` to attempt to load from CDN again, or</li>\\n\"+\n",
              "     \"<li>use INLINE resources instead, as so:</li>\\n\"+\n",
              "     \"</ul>\\n\"+\n",
              "     \"<code>\\n\"+\n",
              "     \"from bokeh.resources import INLINE\\n\"+\n",
              "     \"output_notebook(resources=INLINE)\\n\"+\n",
              "     \"</code>\\n\"+\n",
              "     \"</div>\"}};\n",
              "\n",
              "  function display_loaded() {\n",
              "    var el = document.getElementById(null);\n",
              "    if (el != null) {\n",
              "      el.textContent = \"BokehJS is loading...\";\n",
              "    }\n",
              "    if (root.Bokeh !== undefined) {\n",
              "      if (el != null) {\n",
              "        el.textContent = \"BokehJS \" + root.Bokeh.version + \" successfully loaded.\";\n",
              "      }\n",
              "    } else if (Date.now() < root._bokeh_timeout) {\n",
              "      setTimeout(display_loaded, 100)\n",
              "    }\n",
              "  }\n",
              "\n",
              "\n",
              "  function run_callbacks() {\n",
              "    try {\n",
              "      root._bokeh_onload_callbacks.forEach(function(callback) {\n",
              "        if (callback != null)\n",
              "          callback();\n",
              "      });\n",
              "    } finally {\n",
              "      delete root._bokeh_onload_callbacks\n",
              "    }\n",
              "    console.debug(\"Bokeh: all callbacks have finished\");\n",
              "  }\n",
              "\n",
              "  function load_libs(css_urls, js_urls, callback) {\n",
              "    if (css_urls == null) css_urls = [];\n",
              "    if (js_urls == null) js_urls = [];\n",
              "\n",
              "    root._bokeh_onload_callbacks.push(callback);\n",
              "    if (root._bokeh_is_loading > 0) {\n",
              "      console.debug(\"Bokeh: BokehJS is being loaded, scheduling callback at\", now());\n",
              "      return null;\n",
              "    }\n",
              "    if (js_urls == null || js_urls.length === 0) {\n",
              "      run_callbacks();\n",
              "      return null;\n",
              "    }\n",
              "    console.debug(\"Bokeh: BokehJS not loaded, scheduling load and callback at\", now());\n",
              "    root._bokeh_is_loading = css_urls.length + js_urls.length;\n",
              "\n",
              "    function on_load() {\n",
              "      root._bokeh_is_loading--;\n",
              "      if (root._bokeh_is_loading === 0) {\n",
              "        console.debug(\"Bokeh: all BokehJS libraries/stylesheets loaded\");\n",
              "        run_callbacks()\n",
              "      }\n",
              "    }\n",
              "\n",
              "    function on_error() {\n",
              "      console.error(\"failed to load \" + url);\n",
              "    }\n",
              "\n",
              "    for (var i = 0; i < css_urls.length; i++) {\n",
              "      var url = css_urls[i];\n",
              "      const element = document.createElement(\"link\");\n",
              "      element.onload = on_load;\n",
              "      element.onerror = on_error;\n",
              "      element.rel = \"stylesheet\";\n",
              "      element.type = \"text/css\";\n",
              "      element.href = url;\n",
              "      console.debug(\"Bokeh: injecting link tag for BokehJS stylesheet: \", url);\n",
              "      document.body.appendChild(element);\n",
              "    }\n",
              "\n",
              "    const hashes = {\"https://cdn.bokeh.org/bokeh/release/bokeh-2.1.1.min.js\": \"kLr4fYcqcSpbuI95brIH3vnnYCquzzSxHPU6XGQCIkQRGJwhg0StNbj1eegrHs12\", \"https://cdn.bokeh.org/bokeh/release/bokeh-widgets-2.1.1.min.js\": \"xIGPmVtaOm+z0BqfSOMn4lOR6ciex448GIKG4eE61LsAvmGj48XcMQZtKcE/UXZe\", \"https://cdn.bokeh.org/bokeh/release/bokeh-tables-2.1.1.min.js\": \"Dc9u1wF/0zApGIWoBbH77iWEHtdmkuYWG839Uzmv8y8yBLXebjO9ZnERsde5Ln/P\", \"https://cdn.bokeh.org/bokeh/release/bokeh-gl-2.1.1.min.js\": \"cT9JaBz7GiRXdENrJLZNSC6eMNF3nh3fa5fTF51Svp+ukxPdwcU5kGXGPBgDCa2j\"};\n",
              "\n",
              "    for (var i = 0; i < js_urls.length; i++) {\n",
              "      var url = js_urls[i];\n",
              "      var element = document.createElement('script');\n",
              "      element.onload = on_load;\n",
              "      element.onerror = on_error;\n",
              "      element.async = false;\n",
              "      element.src = url;\n",
              "      if (url in hashes) {\n",
              "        element.crossOrigin = \"anonymous\";\n",
              "        element.integrity = \"sha384-\" + hashes[url];\n",
              "      }\n",
              "      console.debug(\"Bokeh: injecting script tag for BokehJS library: \", url);\n",
              "      document.head.appendChild(element);\n",
              "    }\n",
              "  };\n",
              "\n",
              "  function inject_raw_css(css) {\n",
              "    const element = document.createElement(\"style\");\n",
              "    element.appendChild(document.createTextNode(css));\n",
              "    document.body.appendChild(element);\n",
              "  }\n",
              "\n",
              "  \n",
              "  var js_urls = [\"https://cdn.bokeh.org/bokeh/release/bokeh-2.1.1.min.js\", \"https://cdn.bokeh.org/bokeh/release/bokeh-widgets-2.1.1.min.js\", \"https://cdn.bokeh.org/bokeh/release/bokeh-tables-2.1.1.min.js\", \"https://cdn.bokeh.org/bokeh/release/bokeh-gl-2.1.1.min.js\"];\n",
              "  var css_urls = [];\n",
              "  \n",
              "\n",
              "  var inline_js = [\n",
              "    function(Bokeh) {\n",
              "      Bokeh.set_log_level(\"info\");\n",
              "    },\n",
              "    function(Bokeh) {\n",
              "    \n",
              "    \n",
              "    }\n",
              "  ];\n",
              "\n",
              "  function run_inline_js() {\n",
              "    \n",
              "    if (root.Bokeh !== undefined || force === true) {\n",
              "      \n",
              "    for (var i = 0; i < inline_js.length; i++) {\n",
              "      inline_js[i].call(root, root.Bokeh);\n",
              "    }\n",
              "    } else if (Date.now() < root._bokeh_timeout) {\n",
              "      setTimeout(run_inline_js, 100);\n",
              "    } else if (!root._bokeh_failed_load) {\n",
              "      console.log(\"Bokeh: BokehJS failed to load within specified timeout.\");\n",
              "      root._bokeh_failed_load = true;\n",
              "    } else if (force !== true) {\n",
              "      var cell = $(document.getElementById(null)).parents('.cell').data().cell;\n",
              "      cell.output_area.append_execute_result(NB_LOAD_WARNING)\n",
              "    }\n",
              "\n",
              "  }\n",
              "\n",
              "  if (root._bokeh_is_loading === 0) {\n",
              "    console.debug(\"Bokeh: BokehJS loaded, going straight to plotting\");\n",
              "    run_inline_js();\n",
              "  } else {\n",
              "    load_libs(css_urls, js_urls, function() {\n",
              "      console.debug(\"Bokeh: BokehJS plotting callback run at\", now());\n",
              "      run_inline_js();\n",
              "    });\n",
              "  }\n",
              "}(window));"
            ],
            "application/vnd.bokehjs_load.v0+json": "\n(function(root) {\n  function now() {\n    return new Date();\n  }\n\n  var force = true;\n\n  if (typeof root._bokeh_onload_callbacks === \"undefined\" || force === true) {\n    root._bokeh_onload_callbacks = [];\n    root._bokeh_is_loading = undefined;\n  }\n\n  \n\n  \n  if (typeof (root._bokeh_timeout) === \"undefined\" || force === true) {\n    root._bokeh_timeout = Date.now() + 5000;\n    root._bokeh_failed_load = false;\n  }\n\n  var NB_LOAD_WARNING = {'data': {'text/html':\n     \"<div style='background-color: #fdd'>\\n\"+\n     \"<p>\\n\"+\n     \"BokehJS does not appear to have successfully loaded. If loading BokehJS from CDN, this \\n\"+\n     \"may be due to a slow or bad network connection. Possible fixes:\\n\"+\n     \"</p>\\n\"+\n     \"<ul>\\n\"+\n     \"<li>re-rerun `output_notebook()` to attempt to load from CDN again, or</li>\\n\"+\n     \"<li>use INLINE resources instead, as so:</li>\\n\"+\n     \"</ul>\\n\"+\n     \"<code>\\n\"+\n     \"from bokeh.resources import INLINE\\n\"+\n     \"output_notebook(resources=INLINE)\\n\"+\n     \"</code>\\n\"+\n     \"</div>\"}};\n\n  function display_loaded() {\n    var el = document.getElementById(null);\n    if (el != null) {\n      el.textContent = \"BokehJS is loading...\";\n    }\n    if (root.Bokeh !== undefined) {\n      if (el != null) {\n        el.textContent = \"BokehJS \" + root.Bokeh.version + \" successfully loaded.\";\n      }\n    } else if (Date.now() < root._bokeh_timeout) {\n      setTimeout(display_loaded, 100)\n    }\n  }\n\n\n  function run_callbacks() {\n    try {\n      root._bokeh_onload_callbacks.forEach(function(callback) {\n        if (callback != null)\n          callback();\n      });\n    } finally {\n      delete root._bokeh_onload_callbacks\n    }\n    console.debug(\"Bokeh: all callbacks have finished\");\n  }\n\n  function load_libs(css_urls, js_urls, callback) {\n    if (css_urls == null) css_urls = [];\n    if (js_urls == null) js_urls = [];\n\n    root._bokeh_onload_callbacks.push(callback);\n    if (root._bokeh_is_loading > 0) {\n      console.debug(\"Bokeh: BokehJS is being loaded, scheduling callback at\", now());\n      return null;\n    }\n    if (js_urls == null || js_urls.length === 0) {\n      run_callbacks();\n      return null;\n    }\n    console.debug(\"Bokeh: BokehJS not loaded, scheduling load and callback at\", now());\n    root._bokeh_is_loading = css_urls.length + js_urls.length;\n\n    function on_load() {\n      root._bokeh_is_loading--;\n      if (root._bokeh_is_loading === 0) {\n        console.debug(\"Bokeh: all BokehJS libraries/stylesheets loaded\");\n        run_callbacks()\n      }\n    }\n\n    function on_error() {\n      console.error(\"failed to load \" + url);\n    }\n\n    for (var i = 0; i < css_urls.length; i++) {\n      var url = css_urls[i];\n      const element = document.createElement(\"link\");\n      element.onload = on_load;\n      element.onerror = on_error;\n      element.rel = \"stylesheet\";\n      element.type = \"text/css\";\n      element.href = url;\n      console.debug(\"Bokeh: injecting link tag for BokehJS stylesheet: \", url);\n      document.body.appendChild(element);\n    }\n\n    const hashes = {\"https://cdn.bokeh.org/bokeh/release/bokeh-2.1.1.min.js\": \"kLr4fYcqcSpbuI95brIH3vnnYCquzzSxHPU6XGQCIkQRGJwhg0StNbj1eegrHs12\", \"https://cdn.bokeh.org/bokeh/release/bokeh-widgets-2.1.1.min.js\": \"xIGPmVtaOm+z0BqfSOMn4lOR6ciex448GIKG4eE61LsAvmGj48XcMQZtKcE/UXZe\", \"https://cdn.bokeh.org/bokeh/release/bokeh-tables-2.1.1.min.js\": \"Dc9u1wF/0zApGIWoBbH77iWEHtdmkuYWG839Uzmv8y8yBLXebjO9ZnERsde5Ln/P\", \"https://cdn.bokeh.org/bokeh/release/bokeh-gl-2.1.1.min.js\": \"cT9JaBz7GiRXdENrJLZNSC6eMNF3nh3fa5fTF51Svp+ukxPdwcU5kGXGPBgDCa2j\"};\n\n    for (var i = 0; i < js_urls.length; i++) {\n      var url = js_urls[i];\n      var element = document.createElement('script');\n      element.onload = on_load;\n      element.onerror = on_error;\n      element.async = false;\n      element.src = url;\n      if (url in hashes) {\n        element.crossOrigin = \"anonymous\";\n        element.integrity = \"sha384-\" + hashes[url];\n      }\n      console.debug(\"Bokeh: injecting script tag for BokehJS library: \", url);\n      document.head.appendChild(element);\n    }\n  };\n\n  function inject_raw_css(css) {\n    const element = document.createElement(\"style\");\n    element.appendChild(document.createTextNode(css));\n    document.body.appendChild(element);\n  }\n\n  \n  var js_urls = [\"https://cdn.bokeh.org/bokeh/release/bokeh-2.1.1.min.js\", \"https://cdn.bokeh.org/bokeh/release/bokeh-widgets-2.1.1.min.js\", \"https://cdn.bokeh.org/bokeh/release/bokeh-tables-2.1.1.min.js\", \"https://cdn.bokeh.org/bokeh/release/bokeh-gl-2.1.1.min.js\"];\n  var css_urls = [];\n  \n\n  var inline_js = [\n    function(Bokeh) {\n      Bokeh.set_log_level(\"info\");\n    },\n    function(Bokeh) {\n    \n    \n    }\n  ];\n\n  function run_inline_js() {\n    \n    if (root.Bokeh !== undefined || force === true) {\n      \n    for (var i = 0; i < inline_js.length; i++) {\n      inline_js[i].call(root, root.Bokeh);\n    }\n    } else if (Date.now() < root._bokeh_timeout) {\n      setTimeout(run_inline_js, 100);\n    } else if (!root._bokeh_failed_load) {\n      console.log(\"Bokeh: BokehJS failed to load within specified timeout.\");\n      root._bokeh_failed_load = true;\n    } else if (force !== true) {\n      var cell = $(document.getElementById(null)).parents('.cell').data().cell;\n      cell.output_area.append_execute_result(NB_LOAD_WARNING)\n    }\n\n  }\n\n  if (root._bokeh_is_loading === 0) {\n    console.debug(\"Bokeh: BokehJS loaded, going straight to plotting\");\n    run_inline_js();\n  } else {\n    load_libs(css_urls, js_urls, function() {\n      console.debug(\"Bokeh: BokehJS plotting callback run at\", now());\n      run_inline_js();\n    });\n  }\n}(window));"
          },
          "metadata": {
            "tags": []
          }
        },
        {
          "output_type": "display_data",
          "data": {
            "text/html": [
              "\n",
              "\n",
              "\n",
              "\n",
              "\n",
              "\n",
              "  <div class=\"bk-root\" id=\"471bc063-604a-45eb-a88e-6dd71ccde651\" data-root-id=\"1002\"></div>\n"
            ]
          },
          "metadata": {
            "tags": []
          }
        },
        {
          "output_type": "display_data",
          "data": {
            "application/javascript": [
              "(function(root) {\n",
              "  function embed_document(root) {\n",
              "    \n",
              "  var docs_json = {\"aa254d3a-2d68-4daf-8942-00c65deea81a\":{\"roots\":{\"references\":[{\"attributes\":{\"below\":[{\"id\":\"1011\"}],\"center\":[{\"id\":\"1014\"},{\"id\":\"1018\"},{\"id\":\"1060\"},{\"id\":\"1062\"}],\"left\":[{\"id\":\"1015\"}],\"output_backend\":\"svg\",\"renderers\":[{\"id\":\"1037\"}],\"title\":{\"id\":\"1040\"},\"toolbar\":{\"id\":\"1026\"},\"x_range\":{\"id\":\"1003\"},\"x_scale\":{\"id\":\"1007\"},\"y_range\":{\"id\":\"1005\"},\"y_scale\":{\"id\":\"1009\"}},\"id\":\"1002\",\"subtype\":\"Figure\",\"type\":\"Plot\"},{\"attributes\":{},\"id\":\"1058\",\"type\":\"YearsTicker\"},{\"attributes\":{},\"id\":\"1042\",\"type\":\"DatetimeTickFormatter\"},{\"attributes\":{\"axis_label\":\"Training Cost (Petaflops/s-days)\",\"formatter\":{\"id\":\"1044\"},\"ticker\":{\"id\":\"1016\"}},\"id\":\"1015\",\"type\":\"LogAxis\"},{\"attributes\":{\"text\":\"\"},\"id\":\"1040\",\"type\":\"Title\"},{\"attributes\":{\"num_minor_ticks\":10},\"id\":\"1016\",\"type\":\"LogTicker\"},{\"attributes\":{\"label\":{\"field\":\"type\"},\"renderers\":[{\"id\":\"1037\"}]},\"id\":\"1061\",\"type\":\"LegendItem\"},{\"attributes\":{\"bottom_units\":\"screen\",\"fill_alpha\":0.5,\"fill_color\":\"lightgrey\",\"left_units\":\"screen\",\"level\":\"overlay\",\"line_alpha\":1.0,\"line_color\":\"black\",\"line_dash\":[4,4],\"line_width\":2,\"right_units\":\"screen\",\"top_units\":\"screen\"},\"id\":\"1025\",\"type\":\"BoxAnnotation\"},{\"attributes\":{\"axis\":{\"id\":\"1015\"},\"dimension\":1,\"ticker\":null},\"id\":\"1018\",\"type\":\"Grid\"},{\"attributes\":{\"factors\":[\"CNN\",\"NN\",\"RNN\",\"Transformer\"],\"palette\":[\"#2b83ba\",\"#abdda4\",\"#fdae61\",\"#d7191c\"]},\"id\":\"1033\",\"type\":\"CategoricalColorMapper\"},{\"attributes\":{},\"id\":\"1045\",\"type\":\"UnionRenderers\"},{\"attributes\":{\"data_source\":{\"id\":\"1001\"},\"glyph\":{\"id\":\"1035\"},\"hover_glyph\":null,\"muted_glyph\":null,\"nonselection_glyph\":{\"id\":\"1036\"},\"selection_glyph\":null,\"view\":{\"id\":\"1038\"}},\"id\":\"1037\",\"type\":\"GlyphRenderer\"},{\"attributes\":{\"ticker\":null},\"id\":\"1044\",\"type\":\"LogTickFormatter\"},{\"attributes\":{\"source\":{\"id\":\"1001\"},\"text\":{\"field\":\"name\"},\"text_font_size\":{\"value\":\"0.8em\"},\"x\":{\"field\":\"date\"},\"x_offset\":{\"value\":5},\"y\":{\"field\":\"pflopsdays\"}},\"id\":\"1062\",\"type\":\"LabelSet\"},{\"attributes\":{},\"id\":\"1046\",\"type\":\"Selection\"},{\"attributes\":{},\"id\":\"1019\",\"type\":\"PanTool\"},{\"attributes\":{\"data\":{\"date\":{\"__ndarray__\":\"AABAOLNmc0IAAMBe34N0QgAAQMHNhXRCAACAiQ6IdEIAAMAz7hd1QgAAAI3LN3VCAACAqDx2dUIAAMAHx3l1QgAAgI4cg3VCAADAmZnJdUIAAEDEBmZ2QgAAgKedjXZCAACAQYkld0I=\",\"dtype\":\"float64\",\"order\":\"little\",\"shape\":[13]},\"index\":[0,2,1,3,4,7,5,8,6,9,10,11,12],\"name\":[\"AlexNet\",\"VGG\",\"Seq2Seq\",\"GoogLeNet\",\"DeepSpeech2\",\"ResNet\",\"Neural Machine Translation\",\"Xception\",\"Neural Architecture Search\",\"Transformer\",\"BERT\",\"GPT-2\",\"GPT-3\"],\"pflopsdays\":{\"__ndarray__\":\"rthfdk8edj+4HoXrUbi+PwIrhxbZzrc/+n5qvHSTiD8AAAAAAADQP5qZmZmZmbk/AAAAAADAU0AAAAAAAAAUQAAAAAAAAD9AYhBYObTItj89CtejcD3+PwAAAAAAACRAAAAAAABwrEA=\",\"dtype\":\"float64\",\"order\":\"little\",\"shape\":[13]},\"type\":[\"CNN\",\"CNN\",\"RNN\",\"CNN\",\"RNN\",\"CNN\",\"RNN\",\"CNN\",\"CNN\",\"Transformer\",\"Transformer\",\"Transformer\",\"Transformer\"]},\"selected\":{\"id\":\"1046\"},\"selection_policy\":{\"id\":\"1045\"}},\"id\":\"1001\",\"type\":\"ColumnDataSource\"},{\"attributes\":{\"mantissas\":[1,2,5],\"max_interval\":500.0,\"num_minor_ticks\":0},\"id\":\"1047\",\"type\":\"AdaptiveTicker\"},{\"attributes\":{},\"id\":\"1020\",\"type\":\"WheelZoomTool\"},{\"attributes\":{\"overlay\":{\"id\":\"1025\"}},\"id\":\"1021\",\"type\":\"BoxZoomTool\"},{\"attributes\":{\"base\":60,\"mantissas\":[1,2,5,10,15,20,30],\"max_interval\":1800000.0,\"min_interval\":1000.0,\"num_minor_ticks\":0},\"id\":\"1048\",\"type\":\"AdaptiveTicker\"},{\"attributes\":{},\"id\":\"1022\",\"type\":\"SaveTool\"},{\"attributes\":{\"items\":[{\"id\":\"1061\"}],\"location\":\"top_center\",\"orientation\":\"horizontal\"},\"id\":\"1060\",\"type\":\"Legend\"},{\"attributes\":{\"base\":24,\"mantissas\":[1,2,4,6,8,12],\"max_interval\":43200000.0,\"min_interval\":3600000.0,\"num_minor_ticks\":0},\"id\":\"1049\",\"type\":\"AdaptiveTicker\"},{\"attributes\":{},\"id\":\"1023\",\"type\":\"ResetTool\"},{\"attributes\":{\"days\":[1,2,3,4,5,6,7,8,9,10,11,12,13,14,15,16,17,18,19,20,21,22,23,24,25,26,27,28,29,30,31]},\"id\":\"1050\",\"type\":\"DaysTicker\"},{\"attributes\":{},\"id\":\"1024\",\"type\":\"HelpTool\"},{\"attributes\":{\"days\":[1,4,7,10,13,16,19,22,25,28]},\"id\":\"1051\",\"type\":\"DaysTicker\"},{\"attributes\":{},\"id\":\"1003\",\"type\":\"DataRange1d\"},{\"attributes\":{\"source\":{\"id\":\"1001\"}},\"id\":\"1038\",\"type\":\"CDSView\"},{\"attributes\":{\"days\":[1,8,15,22]},\"id\":\"1052\",\"type\":\"DaysTicker\"},{\"attributes\":{\"active_drag\":\"auto\",\"active_inspect\":\"auto\",\"active_multi\":null,\"active_scroll\":\"auto\",\"active_tap\":\"auto\",\"tools\":[{\"id\":\"1019\"},{\"id\":\"1020\"},{\"id\":\"1021\"},{\"id\":\"1022\"},{\"id\":\"1023\"},{\"id\":\"1024\"}]},\"id\":\"1026\",\"type\":\"Toolbar\"},{\"attributes\":{},\"id\":\"1005\",\"type\":\"DataRange1d\"},{\"attributes\":{\"fill_color\":{\"field\":\"type\",\"transform\":{\"id\":\"1033\"}},\"line_color\":{\"field\":\"type\",\"transform\":{\"id\":\"1033\"}},\"size\":{\"units\":\"screen\",\"value\":8},\"x\":{\"field\":\"date\"},\"y\":{\"field\":\"pflopsdays\"}},\"id\":\"1035\",\"type\":\"Circle\"},{\"attributes\":{\"days\":[1,15]},\"id\":\"1053\",\"type\":\"DaysTicker\"},{\"attributes\":{\"fill_alpha\":{\"value\":0.1},\"fill_color\":{\"field\":\"type\",\"transform\":{\"id\":\"1033\"}},\"line_alpha\":{\"value\":0.1},\"line_color\":{\"field\":\"type\",\"transform\":{\"id\":\"1033\"}},\"size\":{\"units\":\"screen\",\"value\":8},\"x\":{\"field\":\"date\"},\"y\":{\"field\":\"pflopsdays\"}},\"id\":\"1036\",\"type\":\"Circle\"},{\"attributes\":{},\"id\":\"1007\",\"type\":\"LinearScale\"},{\"attributes\":{\"months\":[0,1,2,3,4,5,6,7,8,9,10,11]},\"id\":\"1054\",\"type\":\"MonthsTicker\"},{\"attributes\":{},\"id\":\"1009\",\"type\":\"LogScale\"},{\"attributes\":{\"months\":[0,2,4,6,8,10]},\"id\":\"1055\",\"type\":\"MonthsTicker\"},{\"attributes\":{\"axis_label\":\"Date Published\",\"formatter\":{\"id\":\"1042\"},\"ticker\":{\"id\":\"1012\"}},\"id\":\"1011\",\"type\":\"DatetimeAxis\"},{\"attributes\":{\"months\":[0,4,8]},\"id\":\"1056\",\"type\":\"MonthsTicker\"},{\"attributes\":{\"num_minor_ticks\":5,\"tickers\":[{\"id\":\"1047\"},{\"id\":\"1048\"},{\"id\":\"1049\"},{\"id\":\"1050\"},{\"id\":\"1051\"},{\"id\":\"1052\"},{\"id\":\"1053\"},{\"id\":\"1054\"},{\"id\":\"1055\"},{\"id\":\"1056\"},{\"id\":\"1057\"},{\"id\":\"1058\"}]},\"id\":\"1012\",\"type\":\"DatetimeTicker\"},{\"attributes\":{\"months\":[0,6]},\"id\":\"1057\",\"type\":\"MonthsTicker\"},{\"attributes\":{\"axis\":{\"id\":\"1011\"},\"ticker\":null},\"id\":\"1014\",\"type\":\"Grid\"}],\"root_ids\":[\"1002\"]},\"title\":\"Bokeh Application\",\"version\":\"2.1.1\"}};\n",
              "  var render_items = [{\"docid\":\"aa254d3a-2d68-4daf-8942-00c65deea81a\",\"root_ids\":[\"1002\"],\"roots\":{\"1002\":\"471bc063-604a-45eb-a88e-6dd71ccde651\"}}];\n",
              "  root.Bokeh.embed.embed_items_notebook(docs_json, render_items);\n",
              "\n",
              "  }\n",
              "  if (root.Bokeh !== undefined) {\n",
              "    embed_document(root);\n",
              "  } else {\n",
              "    var attempts = 0;\n",
              "    var timer = setInterval(function(root) {\n",
              "      if (root.Bokeh !== undefined) {\n",
              "        clearInterval(timer);\n",
              "        embed_document(root);\n",
              "      } else {\n",
              "        attempts++;\n",
              "        if (attempts > 100) {\n",
              "          clearInterval(timer);\n",
              "          console.log(\"Bokeh: ERROR: Unable to run BokehJS code because BokehJS library is missing\");\n",
              "        }\n",
              "      }\n",
              "    }, 10, root)\n",
              "  }\n",
              "})(window);"
            ],
            "application/vnd.bokehjs_exec.v0+json": ""
          },
          "metadata": {
            "tags": [],
            "application/vnd.bokehjs_exec.v0+json": {
              "id": "1002"
            }
          }
        }
      ]
    },
    {
      "cell_type": "code",
      "metadata": {
        "id": "c3dQZXE3fLKE"
      },
      "source": [
        ""
      ],
      "execution_count": 21,
      "outputs": []
    }
  ]
}