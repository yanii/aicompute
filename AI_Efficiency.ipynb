{
  "nbformat": 4,
  "nbformat_minor": 0,
  "metadata": {
    "colab": {
      "name": "AI Efficiency.ipynb",
      "provenance": [],
      "collapsed_sections": [],
      "authorship_tag": "ABX9TyPGdWJVyniTmbbIPCZXOmH8",
      "include_colab_link": true
    },
    "kernelspec": {
      "name": "python3",
      "display_name": "Python 3"
    }
  },
  "cells": [
    {
      "cell_type": "markdown",
      "metadata": {
        "id": "view-in-github",
        "colab_type": "text"
      },
      "source": [
        "<a href=\"https://colab.research.google.com/github/yanii/aicompute/blob/main/AI_Efficiency.ipynb\" target=\"_parent\"><img src=\"https://colab.research.google.com/assets/colab-badge.svg\" alt=\"Open In Colab\"/></a>"
      ]
    },
    {
      "cell_type": "markdown",
      "metadata": {
        "id": "brpLpJ6Blzgs"
      },
      "source": [
        "Based on https://openai.com/blog/ai-and-efficiency/"
      ]
    },
    {
      "cell_type": "markdown",
      "metadata": {
        "id": "wPCxSSQJmKg4"
      },
      "source": [
        "#Data"
      ]
    },
    {
      "cell_type": "code",
      "metadata": {
        "id": "cVPD2rkIlu9e"
      },
      "source": [
        "data = [\n",
        "    {'name': 'AlexNet', 'perf':'AlexNet', 'tflopsdays': 3.1, 'date': '01/04/2012'},\n",
        "    {'name': 'GoogLeNet', 'perf':'AlexNet', 'tflopsdays': 0.71, 'date': '17/09/2014'},\n",
        "    {'name': '*GoogLeNet-lowrank', 'perf':'AlexNet', 'tflopsdays': 0.5183, 'date': '20/11/2015'},\n",
        "    {'name': 'MobileNet', 'perf':'AlexNet', 'tflopsdays': 0.28, 'date': '17/04/2017'},\n",
        "    # {'name': 'ShuffleNet (1x)', 'perf':'AlexNet', 'tflopsdays': 0.15, 'date': '03/07/2017'},\n",
        "    {'name': 'ShuffleNet v2 (1x)', 'perf':'AlexNet', 'tflopsdays': 0.15, 'date': '03/07/2018'},\n",
        "    {'name': 'EfficientNet (b0)', 'perf':'AlexNet', 'tflopsdays': 0.069, 'date': '28/05/2019'},\n",
        "    {'name': 'ResNet-50', 'perf':'ResNet-50', 'tflopsdays': 17, 'date': '10/06/2015'},\n",
        "    # {'name': 'SqueezeNet', 'perf':'AlexNet', 'tflopsdays': 0.73, 'date': '24/02/2016'},\n",
        "    # {'name': '*Root-8', 'perf':'ResNet-50', 'tflopsdays': 12.6, 'date': '20/05/2016'},\n",
        "    {'name': '*Root-64', 'perf':'ResNet-50', 'tflopsdays': 9.29, 'date': '20/05/2016'},\n",
        "    {'name': 'EfficientNet (b1)', 'perf':'ResNet-50', 'tflopsdays': 0.75, 'date': '28/05/2019'},\n",
        "]"
      ],
      "execution_count": 99,
      "outputs": []
    },
    {
      "cell_type": "code",
      "metadata": {
        "id": "HBTCDYUqnkII"
      },
      "source": [
        "import pandas as pd"
      ],
      "execution_count": 100,
      "outputs": []
    },
    {
      "cell_type": "code",
      "metadata": {
        "id": "J8FpwwXGnl1g"
      },
      "source": [
        "dataframe = pd.DataFrame.from_dict(data)\n",
        "dataframe['date'] = pd.to_datetime(dataframe['date'], format='%d/%m/%Y') \n",
        "dataframe = dataframe.sort_values(by=['date']) "
      ],
      "execution_count": 101,
      "outputs": []
    },
    {
      "cell_type": "code",
      "metadata": {
        "id": "oDyzuA-onnVx",
        "outputId": "2bc2da05-08d9-4cca-ee6c-aa0ae04276a6",
        "colab": {
          "base_uri": "https://localhost:8080/",
          "height": 328
        }
      },
      "source": [
        "dataframe"
      ],
      "execution_count": 102,
      "outputs": [
        {
          "output_type": "execute_result",
          "data": {
            "text/html": [
              "<div>\n",
              "<style scoped>\n",
              "    .dataframe tbody tr th:only-of-type {\n",
              "        vertical-align: middle;\n",
              "    }\n",
              "\n",
              "    .dataframe tbody tr th {\n",
              "        vertical-align: top;\n",
              "    }\n",
              "\n",
              "    .dataframe thead th {\n",
              "        text-align: right;\n",
              "    }\n",
              "</style>\n",
              "<table border=\"1\" class=\"dataframe\">\n",
              "  <thead>\n",
              "    <tr style=\"text-align: right;\">\n",
              "      <th></th>\n",
              "      <th>name</th>\n",
              "      <th>perf</th>\n",
              "      <th>tflopsdays</th>\n",
              "      <th>date</th>\n",
              "    </tr>\n",
              "  </thead>\n",
              "  <tbody>\n",
              "    <tr>\n",
              "      <th>0</th>\n",
              "      <td>AlexNet</td>\n",
              "      <td>AlexNet</td>\n",
              "      <td>3.1000</td>\n",
              "      <td>2012-04-01</td>\n",
              "    </tr>\n",
              "    <tr>\n",
              "      <th>1</th>\n",
              "      <td>GoogLeNet</td>\n",
              "      <td>AlexNet</td>\n",
              "      <td>0.7100</td>\n",
              "      <td>2014-09-17</td>\n",
              "    </tr>\n",
              "    <tr>\n",
              "      <th>6</th>\n",
              "      <td>ResNet-50</td>\n",
              "      <td>ResNet-50</td>\n",
              "      <td>17.0000</td>\n",
              "      <td>2015-06-10</td>\n",
              "    </tr>\n",
              "    <tr>\n",
              "      <th>2</th>\n",
              "      <td>*GoogLeNet-lowrank</td>\n",
              "      <td>AlexNet</td>\n",
              "      <td>0.5183</td>\n",
              "      <td>2015-11-20</td>\n",
              "    </tr>\n",
              "    <tr>\n",
              "      <th>7</th>\n",
              "      <td>*Root-64</td>\n",
              "      <td>ResNet-50</td>\n",
              "      <td>9.2900</td>\n",
              "      <td>2016-05-20</td>\n",
              "    </tr>\n",
              "    <tr>\n",
              "      <th>3</th>\n",
              "      <td>MobileNet</td>\n",
              "      <td>AlexNet</td>\n",
              "      <td>0.2800</td>\n",
              "      <td>2017-04-17</td>\n",
              "    </tr>\n",
              "    <tr>\n",
              "      <th>4</th>\n",
              "      <td>ShuffleNet v2 (1x)</td>\n",
              "      <td>AlexNet</td>\n",
              "      <td>0.1500</td>\n",
              "      <td>2018-07-03</td>\n",
              "    </tr>\n",
              "    <tr>\n",
              "      <th>5</th>\n",
              "      <td>EfficientNet (b0)</td>\n",
              "      <td>AlexNet</td>\n",
              "      <td>0.0690</td>\n",
              "      <td>2019-05-28</td>\n",
              "    </tr>\n",
              "    <tr>\n",
              "      <th>8</th>\n",
              "      <td>EfficientNet (b1)</td>\n",
              "      <td>ResNet-50</td>\n",
              "      <td>0.7500</td>\n",
              "      <td>2019-05-28</td>\n",
              "    </tr>\n",
              "  </tbody>\n",
              "</table>\n",
              "</div>"
            ],
            "text/plain": [
              "                 name       perf  tflopsdays       date\n",
              "0             AlexNet    AlexNet      3.1000 2012-04-01\n",
              "1           GoogLeNet    AlexNet      0.7100 2014-09-17\n",
              "6           ResNet-50  ResNet-50     17.0000 2015-06-10\n",
              "2  *GoogLeNet-lowrank    AlexNet      0.5183 2015-11-20\n",
              "7            *Root-64  ResNet-50      9.2900 2016-05-20\n",
              "3           MobileNet    AlexNet      0.2800 2017-04-17\n",
              "4  ShuffleNet v2 (1x)    AlexNet      0.1500 2018-07-03\n",
              "5   EfficientNet (b0)    AlexNet      0.0690 2019-05-28\n",
              "8   EfficientNet (b1)  ResNet-50      0.7500 2019-05-28"
            ]
          },
          "metadata": {
            "tags": []
          },
          "execution_count": 102
        }
      ]
    },
    {
      "cell_type": "markdown",
      "metadata": {
        "id": "_RdZPIqyntSO"
      },
      "source": [
        "# Altair Plot"
      ]
    },
    {
      "cell_type": "code",
      "metadata": {
        "id": "w2RalxkznoTl"
      },
      "source": [
        "import altair as alt\n",
        "from altair import datum"
      ],
      "execution_count": 103,
      "outputs": []
    },
    {
      "cell_type": "code",
      "metadata": {
        "id": "tAybifSynwKy",
        "outputId": "6025c9a9-c829-4ece-f55f-ea536bea1d95",
        "colab": {
          "base_uri": "https://localhost:8080/",
          "height": 308
        }
      },
      "source": [
        "points=alt.Chart(dataframe, width=320, height=240).encode(\n",
        "    alt.X('date:T', title='Publication Date', scale=alt.Scale(domain=[pd.to_datetime('1/1/2012', format='%d/%m/%Y'), pd.to_datetime('1/7/2021', format='%d/%m/%Y')])),\n",
        "    alt.Y('tflopsdays:Q', scale=alt.Scale(type='log', base=10, zero=False), axis=alt.Axis(format='.0e'), title='Training Cost (Teraflops/s-days)'),\n",
        "    alt.Color('perf:N', legend=alt.Legend(orient='top-left', offset=5, \n",
        "                                          fillColor='white', padding=5, \n",
        "                                          strokeColor='grey',\n",
        "                                          direction='horizontal',\n",
        "                                          title='ImageNet Accuracy',\n",
        "                                          titleBaseline='middle',\n",
        "                                          titleOrient='left'),\n",
        "              title='DNN Architecture'),\n",
        "    text='name:N'\n",
        ").mark_circle(size=100)\n",
        "\n",
        "annotations_alexnet = points.transform_filter(\n",
        "    datum.perf == 'AlexNet'\n",
        ").mark_text(\n",
        "    align='left',\n",
        "    baseline='middle',\n",
        "    fontSize = 10,\n",
        "    dx = 7,\n",
        ")\n",
        "\n",
        "annotations_resnet50 = points.transform_filter(\n",
        "    datum.perf == 'ResNet-50'\n",
        ").mark_text(\n",
        "    align='left',\n",
        "    baseline='middle',\n",
        "    fontSize = 10,\n",
        "    dx = 7,\n",
        ")\n",
        "\n",
        "chart = (points+annotations_alexnet+annotations_resnet50).configure_axis(\n",
        "    gridColor='lightgrey',\n",
        "    gridOpacity=0.33,\n",
        "    labelFontStyle='Roboto-Regular',\n",
        "    titleFont='Roboto-Regular',\n",
        ")\n",
        "\n",
        "chart.interactive()"
      ],
      "execution_count": 104,
      "outputs": [
        {
          "output_type": "execute_result",
          "data": {
            "text/plain": [
              "alt.LayerChart(...)"
            ],
            "text/html": [
              "\n",
              "<div id=\"altair-viz-c0eeecc6807b42f28e92f71593ddc410\"></div>\n",
              "<script type=\"text/javascript\">\n",
              "  (function(spec, embedOpt){\n",
              "    let outputDiv = document.currentScript.previousElementSibling;\n",
              "    if (outputDiv.id !== \"altair-viz-c0eeecc6807b42f28e92f71593ddc410\") {\n",
              "      outputDiv = document.getElementById(\"altair-viz-c0eeecc6807b42f28e92f71593ddc410\");\n",
              "    }\n",
              "    const paths = {\n",
              "      \"vega\": \"https://cdn.jsdelivr.net/npm//vega@5?noext\",\n",
              "      \"vega-lib\": \"https://cdn.jsdelivr.net/npm//vega-lib?noext\",\n",
              "      \"vega-lite\": \"https://cdn.jsdelivr.net/npm//vega-lite@4.8.1?noext\",\n",
              "      \"vega-embed\": \"https://cdn.jsdelivr.net/npm//vega-embed@6?noext\",\n",
              "    };\n",
              "\n",
              "    function loadScript(lib) {\n",
              "      return new Promise(function(resolve, reject) {\n",
              "        var s = document.createElement('script');\n",
              "        s.src = paths[lib];\n",
              "        s.async = true;\n",
              "        s.onload = () => resolve(paths[lib]);\n",
              "        s.onerror = () => reject(`Error loading script: ${paths[lib]}`);\n",
              "        document.getElementsByTagName(\"head\")[0].appendChild(s);\n",
              "      });\n",
              "    }\n",
              "\n",
              "    function showError(err) {\n",
              "      outputDiv.innerHTML = `<div class=\"error\" style=\"color:red;\">${err}</div>`;\n",
              "      throw err;\n",
              "    }\n",
              "\n",
              "    function displayChart(vegaEmbed) {\n",
              "      vegaEmbed(outputDiv, spec, embedOpt)\n",
              "        .catch(err => showError(`Javascript Error: ${err.message}<br>This usually means there's a typo in your chart specification. See the javascript console for the full traceback.`));\n",
              "    }\n",
              "\n",
              "    if(typeof define === \"function\" && define.amd) {\n",
              "      requirejs.config({paths});\n",
              "      require([\"vega-embed\"], displayChart, err => showError(`Error loading script: ${err.message}`));\n",
              "    } else if (typeof vegaEmbed === \"function\") {\n",
              "      displayChart(vegaEmbed);\n",
              "    } else {\n",
              "      loadScript(\"vega\")\n",
              "        .then(() => loadScript(\"vega-lite\"))\n",
              "        .then(() => loadScript(\"vega-embed\"))\n",
              "        .catch(showError)\n",
              "        .then(() => displayChart(vegaEmbed));\n",
              "    }\n",
              "  })({\"config\": {\"view\": {\"continuousWidth\": 400, \"continuousHeight\": 300}, \"axis\": {\"gridColor\": \"lightgrey\", \"gridOpacity\": 0.33, \"labelFontStyle\": \"Roboto-Regular\", \"titleFont\": \"Roboto-Regular\"}}, \"layer\": [{\"mark\": {\"type\": \"circle\", \"size\": 100}, \"encoding\": {\"color\": {\"type\": \"nominal\", \"field\": \"perf\", \"legend\": {\"direction\": \"horizontal\", \"fillColor\": \"white\", \"offset\": 5, \"orient\": \"top-left\", \"padding\": 5, \"strokeColor\": \"grey\", \"title\": \"ImageNet Accuracy\", \"titleBaseline\": \"middle\", \"titleOrient\": \"left\"}, \"title\": \"DNN Architecture\"}, \"text\": {\"type\": \"nominal\", \"field\": \"name\"}, \"x\": {\"type\": \"temporal\", \"field\": \"date\", \"scale\": {\"domain\": [\"2012-01-01T00:00:00\", \"2021-07-01T00:00:00\"]}, \"title\": \"Publication Date\"}, \"y\": {\"type\": \"quantitative\", \"axis\": {\"format\": \".0e\"}, \"field\": \"tflopsdays\", \"scale\": {\"base\": 10, \"type\": \"log\", \"zero\": false}, \"title\": \"Training Cost (Teraflops/s-days)\"}}, \"height\": 240, \"selection\": {\"selector024\": {\"type\": \"interval\", \"bind\": \"scales\", \"encodings\": [\"x\", \"y\"]}}, \"width\": 320}, {\"mark\": {\"type\": \"text\", \"align\": \"left\", \"baseline\": \"middle\", \"dx\": 7, \"fontSize\": 10}, \"encoding\": {\"color\": {\"type\": \"nominal\", \"field\": \"perf\", \"legend\": {\"direction\": \"horizontal\", \"fillColor\": \"white\", \"offset\": 5, \"orient\": \"top-left\", \"padding\": 5, \"strokeColor\": \"grey\", \"title\": \"ImageNet Accuracy\", \"titleBaseline\": \"middle\", \"titleOrient\": \"left\"}, \"title\": \"DNN Architecture\"}, \"text\": {\"type\": \"nominal\", \"field\": \"name\"}, \"x\": {\"type\": \"temporal\", \"field\": \"date\", \"scale\": {\"domain\": [\"2012-01-01T00:00:00\", \"2021-07-01T00:00:00\"]}, \"title\": \"Publication Date\"}, \"y\": {\"type\": \"quantitative\", \"axis\": {\"format\": \".0e\"}, \"field\": \"tflopsdays\", \"scale\": {\"base\": 10, \"type\": \"log\", \"zero\": false}, \"title\": \"Training Cost (Teraflops/s-days)\"}}, \"height\": 240, \"transform\": [{\"filter\": \"(datum.perf === 'AlexNet')\"}], \"width\": 320}, {\"mark\": {\"type\": \"text\", \"align\": \"left\", \"baseline\": \"middle\", \"dx\": 7, \"fontSize\": 10}, \"encoding\": {\"color\": {\"type\": \"nominal\", \"field\": \"perf\", \"legend\": {\"direction\": \"horizontal\", \"fillColor\": \"white\", \"offset\": 5, \"orient\": \"top-left\", \"padding\": 5, \"strokeColor\": \"grey\", \"title\": \"ImageNet Accuracy\", \"titleBaseline\": \"middle\", \"titleOrient\": \"left\"}, \"title\": \"DNN Architecture\"}, \"text\": {\"type\": \"nominal\", \"field\": \"name\"}, \"x\": {\"type\": \"temporal\", \"field\": \"date\", \"scale\": {\"domain\": [\"2012-01-01T00:00:00\", \"2021-07-01T00:00:00\"]}, \"title\": \"Publication Date\"}, \"y\": {\"type\": \"quantitative\", \"axis\": {\"format\": \".0e\"}, \"field\": \"tflopsdays\", \"scale\": {\"base\": 10, \"type\": \"log\", \"zero\": false}, \"title\": \"Training Cost (Teraflops/s-days)\"}}, \"height\": 240, \"transform\": [{\"filter\": \"(datum.perf === 'ResNet-50')\"}], \"width\": 320}], \"data\": {\"name\": \"data-c82a15d7b49e35430c82817464b3cd2b\"}, \"$schema\": \"https://vega.github.io/schema/vega-lite/v4.8.1.json\", \"datasets\": {\"data-c82a15d7b49e35430c82817464b3cd2b\": [{\"name\": \"AlexNet\", \"perf\": \"AlexNet\", \"tflopsdays\": 3.1, \"date\": \"2012-04-01T00:00:00\"}, {\"name\": \"GoogLeNet\", \"perf\": \"AlexNet\", \"tflopsdays\": 0.71, \"date\": \"2014-09-17T00:00:00\"}, {\"name\": \"ResNet-50\", \"perf\": \"ResNet-50\", \"tflopsdays\": 17.0, \"date\": \"2015-06-10T00:00:00\"}, {\"name\": \"*GoogLeNet-lowrank\", \"perf\": \"AlexNet\", \"tflopsdays\": 0.5183, \"date\": \"2015-11-20T00:00:00\"}, {\"name\": \"*Root-64\", \"perf\": \"ResNet-50\", \"tflopsdays\": 9.29, \"date\": \"2016-05-20T00:00:00\"}, {\"name\": \"MobileNet\", \"perf\": \"AlexNet\", \"tflopsdays\": 0.28, \"date\": \"2017-04-17T00:00:00\"}, {\"name\": \"ShuffleNet v2 (1x)\", \"perf\": \"AlexNet\", \"tflopsdays\": 0.15, \"date\": \"2018-07-03T00:00:00\"}, {\"name\": \"EfficientNet (b0)\", \"perf\": \"AlexNet\", \"tflopsdays\": 0.069, \"date\": \"2019-05-28T00:00:00\"}, {\"name\": \"EfficientNet (b1)\", \"perf\": \"ResNet-50\", \"tflopsdays\": 0.75, \"date\": \"2019-05-28T00:00:00\"}]}}, {\"mode\": \"vega-lite\"});\n",
              "</script>"
            ]
          },
          "metadata": {
            "tags": []
          },
          "execution_count": 104
        }
      ]
    },
    {
      "cell_type": "code",
      "metadata": {
        "id": "yJf6oT97oC3h"
      },
      "source": [
        ""
      ],
      "execution_count": 104,
      "outputs": []
    }
  ]
}