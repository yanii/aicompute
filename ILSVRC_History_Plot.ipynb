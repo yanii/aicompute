{
  "nbformat": 4,
  "nbformat_minor": 0,
  "metadata": {
    "colab": {
      "name": "ILSVRC History Plot",
      "provenance": [],
      "collapsed_sections": [],
      "authorship_tag": "ABX9TyNMBJIrzq7lsKf9BQm14nfi",
      "include_colab_link": true
    },
    "kernelspec": {
      "name": "python3",
      "display_name": "Python 3"
    }
  },
  "cells": [
    {
      "cell_type": "markdown",
      "metadata": {
        "id": "view-in-github",
        "colab_type": "text"
      },
      "source": [
        "<a href=\"https://colab.research.google.com/github/yanii/aicompute/blob/main/ILSVRC_History_Plot.ipynb\" target=\"_parent\"><img src=\"https://colab.research.google.com/assets/colab-badge.svg\" alt=\"Open In Colab\"/></a>"
      ]
    },
    {
      "cell_type": "markdown",
      "metadata": {
        "id": "EB8IKzpQl24O"
      },
      "source": [
        "Based on https://gist.github.com/germank/a542f22be0dad004b18775a7976d1a0b\n",
        "\n",
        "---\n",
        "\n"
      ]
    },
    {
      "cell_type": "markdown",
      "metadata": {
        "id": "sOBshaEaRIuE"
      },
      "source": [
        "#Install Requirements"
      ]
    },
    {
      "cell_type": "code",
      "metadata": {
        "id": "7g9P851VHPyh",
        "colab": {
          "base_uri": "https://localhost:8080/"
        },
        "outputId": "772023ca-2746-4e4c-f05f-ff995d2bfe37"
      },
      "source": [
        "!pip install altair_saver vega"
      ],
      "execution_count": 1,
      "outputs": [
        {
          "output_type": "stream",
          "text": [
            "Requirement already satisfied: altair_saver in /usr/local/lib/python3.7/dist-packages (0.5.0)\n",
            "Requirement already satisfied: vega in /usr/local/lib/python3.7/dist-packages (3.4.0)\n",
            "Requirement already satisfied: altair-data-server>=0.4.0 in /usr/local/lib/python3.7/dist-packages (from altair_saver) (0.4.1)\n",
            "Requirement already satisfied: altair-viewer in /usr/local/lib/python3.7/dist-packages (from altair_saver) (0.3.0)\n",
            "Requirement already satisfied: selenium in /usr/local/lib/python3.7/dist-packages (from altair_saver) (3.141.0)\n",
            "Requirement already satisfied: altair in /usr/local/lib/python3.7/dist-packages (from altair_saver) (4.1.0)\n",
            "Requirement already satisfied: pandas<2.0.0,>=1.0.0 in /usr/local/lib/python3.7/dist-packages (from vega) (1.1.5)\n",
            "Requirement already satisfied: jupyter<2.0.0,>=1.0.0 in /usr/local/lib/python3.7/dist-packages (from vega) (1.0.0)\n",
            "Requirement already satisfied: portpicker in /usr/local/lib/python3.7/dist-packages (from altair-data-server>=0.4.0->altair_saver) (1.3.1)\n",
            "Requirement already satisfied: tornado in /usr/local/lib/python3.7/dist-packages (from altair-data-server>=0.4.0->altair_saver) (5.1.1)\n",
            "Requirement already satisfied: urllib3 in /usr/local/lib/python3.7/dist-packages (from selenium->altair_saver) (1.24.3)\n",
            "Requirement already satisfied: toolz in /usr/local/lib/python3.7/dist-packages (from altair->altair_saver) (0.11.1)\n",
            "Requirement already satisfied: numpy in /usr/local/lib/python3.7/dist-packages (from altair->altair_saver) (1.19.5)\n",
            "Requirement already satisfied: jsonschema in /usr/local/lib/python3.7/dist-packages (from altair->altair_saver) (2.6.0)\n",
            "Requirement already satisfied: entrypoints in /usr/local/lib/python3.7/dist-packages (from altair->altair_saver) (0.3)\n",
            "Requirement already satisfied: jinja2 in /usr/local/lib/python3.7/dist-packages (from altair->altair_saver) (2.11.3)\n",
            "Requirement already satisfied: python-dateutil>=2.7.3 in /usr/local/lib/python3.7/dist-packages (from pandas<2.0.0,>=1.0.0->vega) (2.8.1)\n",
            "Requirement already satisfied: pytz>=2017.2 in /usr/local/lib/python3.7/dist-packages (from pandas<2.0.0,>=1.0.0->vega) (2018.9)\n",
            "Requirement already satisfied: ipykernel in /usr/local/lib/python3.7/dist-packages (from jupyter<2.0.0,>=1.0.0->vega) (4.10.1)\n",
            "Requirement already satisfied: ipywidgets in /usr/local/lib/python3.7/dist-packages (from jupyter<2.0.0,>=1.0.0->vega) (7.6.3)\n",
            "Requirement already satisfied: qtconsole in /usr/local/lib/python3.7/dist-packages (from jupyter<2.0.0,>=1.0.0->vega) (5.0.3)\n",
            "Requirement already satisfied: notebook in /usr/local/lib/python3.7/dist-packages (from jupyter<2.0.0,>=1.0.0->vega) (5.3.1)\n",
            "Requirement already satisfied: nbconvert in /usr/local/lib/python3.7/dist-packages (from jupyter<2.0.0,>=1.0.0->vega) (5.6.1)\n",
            "Requirement already satisfied: jupyter-console in /usr/local/lib/python3.7/dist-packages (from jupyter<2.0.0,>=1.0.0->vega) (5.2.0)\n",
            "Requirement already satisfied: MarkupSafe>=0.23 in /usr/local/lib/python3.7/dist-packages (from jinja2->altair->altair_saver) (1.1.1)\n",
            "Requirement already satisfied: six>=1.5 in /usr/local/lib/python3.7/dist-packages (from python-dateutil>=2.7.3->pandas<2.0.0,>=1.0.0->vega) (1.15.0)\n",
            "Requirement already satisfied: jupyter-client in /usr/local/lib/python3.7/dist-packages (from ipykernel->jupyter<2.0.0,>=1.0.0->vega) (5.3.5)\n",
            "Requirement already satisfied: ipython>=4.0.0 in /usr/local/lib/python3.7/dist-packages (from ipykernel->jupyter<2.0.0,>=1.0.0->vega) (5.5.0)\n",
            "Requirement already satisfied: traitlets>=4.1.0 in /usr/local/lib/python3.7/dist-packages (from ipykernel->jupyter<2.0.0,>=1.0.0->vega) (5.0.5)\n",
            "Requirement already satisfied: jupyterlab-widgets>=1.0.0; python_version >= \"3.6\" in /usr/local/lib/python3.7/dist-packages (from ipywidgets->jupyter<2.0.0,>=1.0.0->vega) (1.0.0)\n",
            "Requirement already satisfied: widgetsnbextension~=3.5.0 in /usr/local/lib/python3.7/dist-packages (from ipywidgets->jupyter<2.0.0,>=1.0.0->vega) (3.5.1)\n",
            "Requirement already satisfied: nbformat>=4.2.0 in /usr/local/lib/python3.7/dist-packages (from ipywidgets->jupyter<2.0.0,>=1.0.0->vega) (5.1.2)\n",
            "Requirement already satisfied: ipython-genutils in /usr/local/lib/python3.7/dist-packages (from qtconsole->jupyter<2.0.0,>=1.0.0->vega) (0.2.0)\n",
            "Requirement already satisfied: jupyter-core in /usr/local/lib/python3.7/dist-packages (from qtconsole->jupyter<2.0.0,>=1.0.0->vega) (4.7.1)\n",
            "Requirement already satisfied: pyzmq>=17.1 in /usr/local/lib/python3.7/dist-packages (from qtconsole->jupyter<2.0.0,>=1.0.0->vega) (22.0.3)\n",
            "Requirement already satisfied: qtpy in /usr/local/lib/python3.7/dist-packages (from qtconsole->jupyter<2.0.0,>=1.0.0->vega) (1.9.0)\n",
            "Requirement already satisfied: pygments in /usr/local/lib/python3.7/dist-packages (from qtconsole->jupyter<2.0.0,>=1.0.0->vega) (2.6.1)\n",
            "Requirement already satisfied: terminado>=0.8.1 in /usr/local/lib/python3.7/dist-packages (from notebook->jupyter<2.0.0,>=1.0.0->vega) (0.9.3)\n",
            "Requirement already satisfied: Send2Trash in /usr/local/lib/python3.7/dist-packages (from notebook->jupyter<2.0.0,>=1.0.0->vega) (1.5.0)\n",
            "Requirement already satisfied: mistune<2,>=0.8.1 in /usr/local/lib/python3.7/dist-packages (from nbconvert->jupyter<2.0.0,>=1.0.0->vega) (0.8.4)\n",
            "Requirement already satisfied: testpath in /usr/local/lib/python3.7/dist-packages (from nbconvert->jupyter<2.0.0,>=1.0.0->vega) (0.4.4)\n",
            "Requirement already satisfied: bleach in /usr/local/lib/python3.7/dist-packages (from nbconvert->jupyter<2.0.0,>=1.0.0->vega) (3.3.0)\n",
            "Requirement already satisfied: defusedxml in /usr/local/lib/python3.7/dist-packages (from nbconvert->jupyter<2.0.0,>=1.0.0->vega) (0.7.1)\n",
            "Requirement already satisfied: pandocfilters>=1.4.1 in /usr/local/lib/python3.7/dist-packages (from nbconvert->jupyter<2.0.0,>=1.0.0->vega) (1.4.3)\n",
            "Requirement already satisfied: prompt-toolkit<2.0.0,>=1.0.0 in /usr/local/lib/python3.7/dist-packages (from jupyter-console->jupyter<2.0.0,>=1.0.0->vega) (1.0.18)\n",
            "Requirement already satisfied: pickleshare in /usr/local/lib/python3.7/dist-packages (from ipython>=4.0.0->ipykernel->jupyter<2.0.0,>=1.0.0->vega) (0.7.5)\n",
            "Requirement already satisfied: setuptools>=18.5 in /usr/local/lib/python3.7/dist-packages (from ipython>=4.0.0->ipykernel->jupyter<2.0.0,>=1.0.0->vega) (54.2.0)\n",
            "Requirement already satisfied: simplegeneric>0.8 in /usr/local/lib/python3.7/dist-packages (from ipython>=4.0.0->ipykernel->jupyter<2.0.0,>=1.0.0->vega) (0.8.1)\n",
            "Requirement already satisfied: pexpect; sys_platform != \"win32\" in /usr/local/lib/python3.7/dist-packages (from ipython>=4.0.0->ipykernel->jupyter<2.0.0,>=1.0.0->vega) (4.8.0)\n",
            "Requirement already satisfied: decorator in /usr/local/lib/python3.7/dist-packages (from ipython>=4.0.0->ipykernel->jupyter<2.0.0,>=1.0.0->vega) (4.4.2)\n",
            "Requirement already satisfied: ptyprocess; os_name != \"nt\" in /usr/local/lib/python3.7/dist-packages (from terminado>=0.8.1->notebook->jupyter<2.0.0,>=1.0.0->vega) (0.7.0)\n",
            "Requirement already satisfied: webencodings in /usr/local/lib/python3.7/dist-packages (from bleach->nbconvert->jupyter<2.0.0,>=1.0.0->vega) (0.5.1)\n",
            "Requirement already satisfied: packaging in /usr/local/lib/python3.7/dist-packages (from bleach->nbconvert->jupyter<2.0.0,>=1.0.0->vega) (20.9)\n",
            "Requirement already satisfied: wcwidth in /usr/local/lib/python3.7/dist-packages (from prompt-toolkit<2.0.0,>=1.0.0->jupyter-console->jupyter<2.0.0,>=1.0.0->vega) (0.2.5)\n",
            "Requirement already satisfied: pyparsing>=2.0.2 in /usr/local/lib/python3.7/dist-packages (from packaging->bleach->nbconvert->jupyter<2.0.0,>=1.0.0->vega) (2.4.7)\n"
          ],
          "name": "stdout"
        }
      ]
    },
    {
      "cell_type": "code",
      "metadata": {
        "id": "3ZWaiabeIChZ",
        "colab": {
          "base_uri": "https://localhost:8080/"
        },
        "outputId": "fd49bd4d-04b4-4d9c-9b58-a89309572241"
      },
      "source": [
        "!npm install --silent vega-lite vega-cli canvas"
      ],
      "execution_count": 2,
      "outputs": [
        {
          "output_type": "stream",
          "text": [
            "\u001b[K\u001b[?25h[canvas] Success: \"/content/node_modules/canvas/build/Release/canvas.node\" is installed via remote\n",
            "\u001b[K\u001b[?25h+ canvas@2.7.0\n",
            "+ vega-cli@5.20.2\n",
            "+ vega-lite@5.0.0\n",
            "updated 3 packages and audited 278 packages in 5.301s\n",
            "\n",
            "7 packages are looking for funding\n",
            "  run `npm fund` for details\n",
            "\n",
            "found \u001b[92m0\u001b[0m vulnerabilities\n",
            "\n",
            "\u001b[K\u001b[?25h"
          ],
          "name": "stdout"
        }
      ]
    },
    {
      "cell_type": "code",
      "metadata": {
        "id": "q_fyJBl-OdyA"
      },
      "source": [
        "!apt-get -qq install chromium-chromedriver"
      ],
      "execution_count": 3,
      "outputs": []
    },
    {
      "cell_type": "markdown",
      "metadata": {
        "id": "eocCPQHNSwrc"
      },
      "source": [
        "# Install Fonts"
      ]
    },
    {
      "cell_type": "code",
      "metadata": {
        "id": "NdnvZyq7SwTE",
        "colab": {
          "base_uri": "https://localhost:8080/"
        },
        "outputId": "d98296c5-6c99-4bf2-8055-4e15ad67d2d6"
      },
      "source": [
        "!wget -O /tmp/fonts.zip https://fonts.google.com/download?family=Roboto"
      ],
      "execution_count": 4,
      "outputs": [
        {
          "output_type": "stream",
          "text": [
            "--2021-04-05 02:12:25--  https://fonts.google.com/download?family=Roboto\n",
            "Resolving fonts.google.com (fonts.google.com)... 173.194.215.100, 173.194.215.113, 173.194.215.102, ...\n",
            "Connecting to fonts.google.com (fonts.google.com)|173.194.215.100|:443... connected.\n",
            "HTTP request sent, awaiting response... 200 OK\n",
            "Length: unspecified [application/zip]\n",
            "Saving to: ‘/tmp/fonts.zip’\n",
            "\n",
            "\r/tmp/fonts.zip          [<=>                 ]       0  --.-KB/s               \r/tmp/fonts.zip          [ <=>                ]   1.07M  --.-KB/s    in 0.06s   \n",
            "\n",
            "2021-04-05 02:12:26 (17.4 MB/s) - ‘/tmp/fonts.zip’ saved [1124235]\n",
            "\n"
          ],
          "name": "stdout"
        }
      ]
    },
    {
      "cell_type": "code",
      "metadata": {
        "id": "5f9VDHPDS0N5",
        "colab": {
          "base_uri": "https://localhost:8080/"
        },
        "outputId": "3584483c-1443-4bc9-a329-b2522ab6a7ad"
      },
      "source": [
        "!unzip -fd /usr/share/fonts/truetype/ /tmp/fonts.zip"
      ],
      "execution_count": 5,
      "outputs": [
        {
          "output_type": "stream",
          "text": [
            "Archive:  /tmp/fonts.zip\n"
          ],
          "name": "stdout"
        }
      ]
    },
    {
      "cell_type": "markdown",
      "metadata": {
        "id": "gHkv76p3RRRP"
      },
      "source": [
        "Data"
      ]
    },
    {
      "cell_type": "code",
      "metadata": {
        "id": "A2BJG2ku2Tte"
      },
      "source": [
        "data = [{'name': '', 'type':'other', 'top5': 0.544, 'year': 2010},\n",
        "        {'name': '', 'type':'other', 'top5': 0.701, 'year': 2010},\n",
        "        {'name': '', 'type':'other', 'top5': 0.446, 'year': 2010},\n",
        "        {'name': '', 'type':'other', 'top5': 0.787, 'year': 2010},\n",
        "        {'name': '', 'type':'other', 'top5': 0.282, 'year': 2010},\n",
        "        {'name': '', 'type':'other', 'top5': 0.742, 'year': 2010},\n",
        "        {'name': '', 'type':'other', 'top5': 0.583, 'year': 2010},\n",
        "        {'name': '', 'type':'other', 'top5': 0.751, 'year': 2010},\n",
        "        {'name': '', 'type':'other', 'top5': 0.466, 'year': 2010},\n",
        "        {'name': '', 'type':'other', 'top5': 0.336, 'year': 2010},\n",
        "        {'name': '', 'type':'other', 'top5': 0.25770, 'year': 2011},\n",
        "        {'name': '', 'type':'other', 'top5': 0.31010, 'year': 2011},\n",
        "        {'name': '', 'type':'other', 'top5': 0.35960, 'year': 2011},\n",
        "        {'name': '', 'type':'other', 'top5': 0.50450, 'year': 2011},\n",
        "        {'name': 'AlexNet', 'type':'CNN', 'top5': 0.15315, 'year': 2012},\n",
        "        {'name': '', 'type':'other', 'top5': 0.26172 , 'year': 2012},\n",
        "        {'name': '', 'type':'other', 'top5': 0.26979, 'year': 2012},\n",
        "        {'name': '', 'type':'other', 'top5': 0.27058, 'year': 2012},\n",
        "        {'name': '', 'type':'other', 'top5': 0.29576, 'year': 2012},\n",
        "        {'name': '', 'type':'other', 'top5': 0.33419, 'year': 2012},\n",
        "        {'name': '', 'type':'other', 'top5': 0.34464, 'year': 2012},\n",
        "        {'name': '', 'type':'CNN', 'top5': 0.11197, 'year': 2013},\n",
        "        {'name': '', 'type':'CNN', 'top5': 0.12953, 'year': 2013},\n",
        "        {'name': '', 'type':'CNN', 'top5': 0.13511, 'year': 2013},\n",
        "        {'name': '', 'type':'CNN', 'top5': 0.13555, 'year': 2013},\n",
        "        {'name': '', 'type':'CNN', 'top5': 0.13748, 'year': 2013},\n",
        "        {'name': '', 'type':'CNN', 'top5': 0.13985, 'year': 2013},\n",
        "        {'name': '', 'type':'CNN', 'top5': 0.14182, 'year': 2013},\n",
        "        {'name': '', 'type':'CNN', 'top5': 0.14291, 'year': 2013},\n",
        "        {'name': '', 'type':'CNN', 'top5': 0.15193, 'year': 2013},\n",
        "        {'name': '', 'type':'CNN', 'top5': 0.15245, 'year': 2013},\n",
        "        {'name': '', 'type':'CNN', 'top5': 0.06656, 'year': 2014},\n",
        "        {'name': '', 'type':'CNN', 'top5': 0.07325, 'year': 2014},\n",
        "        {'name': '', 'type':'CNN', 'top5': 0.0806, 'year': 2014},\n",
        "        {'name': '', 'type':'CNN', 'top5': 0.08111, 'year': 2014},\n",
        "        {'name': '', 'type':'CNN', 'top5': 0.09508, 'year': 2014},\n",
        "        {'name': '', 'type':'CNN', 'top5': 0.09794, 'year': 2014},\n",
        "        {'name': '', 'type':'CNN', 'top5': 0.10222, 'year': 2014},\n",
        "        {'name': '', 'type':'CNN', 'top5': 0.11229, 'year': 2014},\n",
        "        {'name': '', 'type':'CNN', 'top5': 0.11326, 'year': 2014},\n",
        "        {'name': '', 'type':'CNN', 'top5': 0.12376, 'year': 2014},\n",
        "        {'name': '', 'type':'CNN', 'top5': 0.03567, 'year': 2015},\n",
        "        {'name': '', 'type':'CNN', 'top5': 0.03581, 'year': 2015},\n",
        "        {'name': '', 'type':'CNN', 'top5': 0.04581, 'year': 2015},\n",
        "        {'name': '', 'type':'CNN', 'top5': 0.04873, 'year': 2015},\n",
        "        {'name': '', 'type':'CNN', 'top5': 0.05034, 'year': 2015},\n",
        "        {'name': '', 'type':'CNN', 'top5': 0.05477, 'year': 2015},\n",
        "        {'name': '', 'type':'CNN', 'top5': 0.05858, 'year': 2015},\n",
        "        {'name': '', 'type':'CNN', 'top5': 0.06314, 'year': 2015},\n",
        "        {'name': '', 'type':'CNN', 'top5': 0.06482, 'year': 2015},\n",
        "        {'name': '', 'type':'CNN', 'top5': 0.06828, 'year': 2015},\n",
        "        {'name': '', 'type':'CNN', 'top5': 0.02991, 'year': 2016},\n",
        "        {'name': '', 'type':'CNN', 'top5': 0.03031, 'year': 2016},\n",
        "        {'name': '', 'type':'CNN', 'top5': 0.03042, 'year': 2016},\n",
        "        {'name': '', 'type':'CNN', 'top5': 0.03171, 'year': 2016},\n",
        "        {'name': '', 'type':'CNN', 'top5': 0.03256, 'year': 2016},\n",
        "        {'name': '', 'type':'CNN', 'top5': 0.03291, 'year': 2016},\n",
        "        {'name': '', 'type':'CNN', 'top5': 0.03297, 'year': 2016},\n",
        "        {'name': '', 'type':'CNN', 'top5': 0.03351, 'year': 2016},\n",
        "        {'name': '', 'type':'CNN', 'top5': 0.03352, 'year': 2016},\n",
        "        {'name': '', 'type':'CNN', 'top5': 0.03416, 'year': 2016},\n",
        "]"
      ],
      "execution_count": 35,
      "outputs": []
    },
    {
      "cell_type": "code",
      "metadata": {
        "id": "VLcUgz7oC8yn"
      },
      "source": [
        "import pandas as pd"
      ],
      "execution_count": 36,
      "outputs": []
    },
    {
      "cell_type": "code",
      "metadata": {
        "id": "dAb096gvQR6W"
      },
      "source": [
        "dataframe = pd.DataFrame.from_dict(data)\n",
        "dataframe['date'] = pd.to_datetime(dataframe['year'], format='%Y') \n",
        "dataframe = dataframe.sort_values(by=['date']) "
      ],
      "execution_count": 37,
      "outputs": []
    },
    {
      "cell_type": "code",
      "metadata": {
        "id": "Hsd5h0jSQUNa",
        "colab": {
          "base_uri": "https://localhost:8080/",
          "height": 419
        },
        "outputId": "23333838-2b35-434f-a217-f924bfdd0058"
      },
      "source": [
        "dataframe"
      ],
      "execution_count": 38,
      "outputs": [
        {
          "output_type": "execute_result",
          "data": {
            "text/html": [
              "<div>\n",
              "<style scoped>\n",
              "    .dataframe tbody tr th:only-of-type {\n",
              "        vertical-align: middle;\n",
              "    }\n",
              "\n",
              "    .dataframe tbody tr th {\n",
              "        vertical-align: top;\n",
              "    }\n",
              "\n",
              "    .dataframe thead th {\n",
              "        text-align: right;\n",
              "    }\n",
              "</style>\n",
              "<table border=\"1\" class=\"dataframe\">\n",
              "  <thead>\n",
              "    <tr style=\"text-align: right;\">\n",
              "      <th></th>\n",
              "      <th>name</th>\n",
              "      <th>type</th>\n",
              "      <th>top5</th>\n",
              "      <th>year</th>\n",
              "      <th>date</th>\n",
              "    </tr>\n",
              "  </thead>\n",
              "  <tbody>\n",
              "    <tr>\n",
              "      <th>0</th>\n",
              "      <td></td>\n",
              "      <td>other</td>\n",
              "      <td>0.54400</td>\n",
              "      <td>2010</td>\n",
              "      <td>2010-01-01</td>\n",
              "    </tr>\n",
              "    <tr>\n",
              "      <th>1</th>\n",
              "      <td></td>\n",
              "      <td>other</td>\n",
              "      <td>0.70100</td>\n",
              "      <td>2010</td>\n",
              "      <td>2010-01-01</td>\n",
              "    </tr>\n",
              "    <tr>\n",
              "      <th>2</th>\n",
              "      <td></td>\n",
              "      <td>other</td>\n",
              "      <td>0.44600</td>\n",
              "      <td>2010</td>\n",
              "      <td>2010-01-01</td>\n",
              "    </tr>\n",
              "    <tr>\n",
              "      <th>3</th>\n",
              "      <td></td>\n",
              "      <td>other</td>\n",
              "      <td>0.78700</td>\n",
              "      <td>2010</td>\n",
              "      <td>2010-01-01</td>\n",
              "    </tr>\n",
              "    <tr>\n",
              "      <th>4</th>\n",
              "      <td></td>\n",
              "      <td>other</td>\n",
              "      <td>0.28200</td>\n",
              "      <td>2010</td>\n",
              "      <td>2010-01-01</td>\n",
              "    </tr>\n",
              "    <tr>\n",
              "      <th>...</th>\n",
              "      <td>...</td>\n",
              "      <td>...</td>\n",
              "      <td>...</td>\n",
              "      <td>...</td>\n",
              "      <td>...</td>\n",
              "    </tr>\n",
              "    <tr>\n",
              "      <th>55</th>\n",
              "      <td></td>\n",
              "      <td>CNN</td>\n",
              "      <td>0.03256</td>\n",
              "      <td>2016</td>\n",
              "      <td>2016-01-01</td>\n",
              "    </tr>\n",
              "    <tr>\n",
              "      <th>56</th>\n",
              "      <td></td>\n",
              "      <td>CNN</td>\n",
              "      <td>0.03291</td>\n",
              "      <td>2016</td>\n",
              "      <td>2016-01-01</td>\n",
              "    </tr>\n",
              "    <tr>\n",
              "      <th>57</th>\n",
              "      <td></td>\n",
              "      <td>CNN</td>\n",
              "      <td>0.03297</td>\n",
              "      <td>2016</td>\n",
              "      <td>2016-01-01</td>\n",
              "    </tr>\n",
              "    <tr>\n",
              "      <th>58</th>\n",
              "      <td></td>\n",
              "      <td>CNN</td>\n",
              "      <td>0.03351</td>\n",
              "      <td>2016</td>\n",
              "      <td>2016-01-01</td>\n",
              "    </tr>\n",
              "    <tr>\n",
              "      <th>60</th>\n",
              "      <td></td>\n",
              "      <td>CNN</td>\n",
              "      <td>0.03416</td>\n",
              "      <td>2016</td>\n",
              "      <td>2016-01-01</td>\n",
              "    </tr>\n",
              "  </tbody>\n",
              "</table>\n",
              "<p>61 rows × 5 columns</p>\n",
              "</div>"
            ],
            "text/plain": [
              "   name   type     top5  year       date\n",
              "0        other  0.54400  2010 2010-01-01\n",
              "1        other  0.70100  2010 2010-01-01\n",
              "2        other  0.44600  2010 2010-01-01\n",
              "3        other  0.78700  2010 2010-01-01\n",
              "4        other  0.28200  2010 2010-01-01\n",
              "..  ...    ...      ...   ...        ...\n",
              "55         CNN  0.03256  2016 2016-01-01\n",
              "56         CNN  0.03291  2016 2016-01-01\n",
              "57         CNN  0.03297  2016 2016-01-01\n",
              "58         CNN  0.03351  2016 2016-01-01\n",
              "60         CNN  0.03416  2016 2016-01-01\n",
              "\n",
              "[61 rows x 5 columns]"
            ]
          },
          "metadata": {
            "tags": []
          },
          "execution_count": 38
        }
      ]
    },
    {
      "cell_type": "markdown",
      "metadata": {
        "id": "hlCVdZzWRqLi"
      },
      "source": [
        "# Seaborn Plot"
      ]
    },
    {
      "cell_type": "code",
      "metadata": {
        "id": "kHR0JNqrQcTt"
      },
      "source": [
        "import seaborn as sns\n",
        "import matplotlib as mpl\n",
        "import matplotlib.pyplot as plt\n",
        "import matplotlib.font_manager as fm\n",
        "\n",
        "# fetch the name of font that was installed\n",
        "path = '/usr/share/fonts/truetype/Roboto-Regular.ttf'\n",
        "fontprop = fm.FontProperties(fname=path)\n",
        "\n",
        "sns.set_theme()\n",
        "# %matplotlib inline"
      ],
      "execution_count": 39,
      "outputs": []
    },
    {
      "cell_type": "code",
      "metadata": {
        "id": "xlMGXgSBTjUg",
        "colab": {
          "base_uri": "https://localhost:8080/",
          "height": 570
        },
        "outputId": "29af5421-42d5-4a14-b04b-5d1a9a90ee3f"
      },
      "source": [
        "fig, ax = plt.subplots(figsize=(10, 10))\n",
        "# ax.set(yscale=\"log\")\n",
        "fig.autofmt_xdate()\n",
        "# ax.plot_date(dataframe['date'], dataframe['pflops-days'])\n",
        "splot = sns.scatterplot(data=dataframe, x='year', y='top5', hue='type')\n",
        "# splot.set(yscale=\"log\")"
      ],
      "execution_count": 40,
      "outputs": [
        {
          "output_type": "display_data",
          "data": {
            "image/png": "[encoded data removed]",
            "text/plain": [
              "<Figure size 720x720 with 1 Axes>"
            ]
          },
          "metadata": {
            "tags": []
          }
        }
      ]
    },
    {
      "cell_type": "markdown",
      "metadata": {
        "id": "PY3R-xn7RsFf"
      },
      "source": [
        "# Altair Plot"
      ]
    },
    {
      "cell_type": "code",
      "metadata": {
        "id": "yZHCBAsbvcRB"
      },
      "source": [
        "import altair as alt\n",
        "from altair import datum"
      ],
      "execution_count": 41,
      "outputs": []
    },
    {
      "cell_type": "code",
      "metadata": {
        "id": "FMrjlVoBMiUi"
      },
      "source": [
        "color_scheme='tableau10'"
      ],
      "execution_count": 42,
      "outputs": []
    },
    {
      "cell_type": "code",
      "metadata": {
        "id": "RdD-Szw2wLBO",
        "colab": {
          "base_uri": "https://localhost:8080/",
          "height": 308
        },
        "outputId": "6d1a0468-328e-4749-ad51-e58227ebd217"
      },
      "source": [
        "points=alt.Chart(dataframe, width=426, height=240).encode(\n",
        "    alt.X('date:T', title='Year', scale=alt.Scale(domain=[pd.to_datetime('2009', format='%Y'), pd.to_datetime('2017', format='%Y')])),\n",
        "    alt.Y('top5:Q', scale=alt.Scale(zero=False), title='Top-5 Validation Error'),\n",
        "    alt.Color('type:N', scale=alt.Scale(scheme=color_scheme), legend=alt.Legend(orient='top-right', offset=5, fillColor='white', padding=5, strokeColor='grey', direction='horizontal', title=None, titleBaseline='middle'), title='DNN Architecture'),\n",
        "    text='name:N'\n",
        ").mark_circle(size=100)\n",
        "\n",
        "annotations_other = points.transform_filter(\n",
        "    datum.type == 'other'\n",
        ").mark_text(\n",
        "    align='left',\n",
        "    baseline='middle',\n",
        "    fontSize = 10,\n",
        "    dx = 10,\n",
        ")\n",
        "\n",
        "annotations_cnn = points.transform_filter(\n",
        "    datum.type == 'CNN'\n",
        ").mark_text(\n",
        "    align='left',\n",
        "    baseline='middle',\n",
        "    fontSize = 10,\n",
        "    dx = 10,\n",
        ")\n",
        "\n",
        "chart = (points+annotations_cnn+annotations_other).configure_axis(\n",
        "    gridColor='lightgrey',\n",
        "    gridOpacity=0.33,\n",
        "    labelFontStyle='Roboto-Regular',\n",
        "    titleFontStyle='Roboto-Regular',\n",
        ").configure_header(\n",
        "    labelFontStyle='Roboto-Regular',\n",
        "    titleFontStyle='Roboto-Regular',\n",
        ")\n",
        "\n",
        "chart.interactive()"
      ],
      "execution_count": 69,
      "outputs": [
        {
          "output_type": "execute_result",
          "data": {
            "text/plain": [
              "alt.LayerChart(...)"
            ],
            "text/html": [
              "\n",
              "<div id=\"altair-viz-c17b4034409c4067bb4511b35620160f\"></div>\n",
              "<script type=\"text/javascript\">\n",
              "  (function(spec, embedOpt){\n",
              "    let outputDiv = document.currentScript.previousElementSibling;\n",
              "    if (outputDiv.id !== \"altair-viz-c17b4034409c4067bb4511b35620160f\") {\n",
              "      outputDiv = document.getElementById(\"altair-viz-c17b4034409c4067bb4511b35620160f\");\n",
              "    }\n",
              "    const paths = {\n",
              "      \"vega\": \"https://cdn.jsdelivr.net/npm//vega@5?noext\",\n",
              "      \"vega-lib\": \"https://cdn.jsdelivr.net/npm//vega-lib?noext\",\n",
              "      \"vega-lite\": \"https://cdn.jsdelivr.net/npm//vega-lite@4.8.1?noext\",\n",
              "      \"vega-embed\": \"https://cdn.jsdelivr.net/npm//vega-embed@6?noext\",\n",
              "    };\n",
              "\n",
              "    function loadScript(lib) {\n",
              "      return new Promise(function(resolve, reject) {\n",
              "        var s = document.createElement('script');\n",
              "        s.src = paths[lib];\n",
              "        s.async = true;\n",
              "        s.onload = () => resolve(paths[lib]);\n",
              "        s.onerror = () => reject(`Error loading script: ${paths[lib]}`);\n",
              "        document.getElementsByTagName(\"head\")[0].appendChild(s);\n",
              "      });\n",
              "    }\n",
              "\n",
              "    function showError(err) {\n",
              "      outputDiv.innerHTML = `<div class=\"error\" style=\"color:red;\">${err}</div>`;\n",
              "      throw err;\n",
              "    }\n",
              "\n",
              "    function displayChart(vegaEmbed) {\n",
              "      vegaEmbed(outputDiv, spec, embedOpt)\n",
              "        .catch(err => showError(`Javascript Error: ${err.message}<br>This usually means there's a typo in your chart specification. See the javascript console for the full traceback.`));\n",
              "    }\n",
              "\n",
              "    if(typeof define === \"function\" && define.amd) {\n",
              "      requirejs.config({paths});\n",
              "      require([\"vega-embed\"], displayChart, err => showError(`Error loading script: ${err.message}`));\n",
              "    } else if (typeof vegaEmbed === \"function\") {\n",
              "      displayChart(vegaEmbed);\n",
              "    } else {\n",
              "      loadScript(\"vega\")\n",
              "        .then(() => loadScript(\"vega-lite\"))\n",
              "        .then(() => loadScript(\"vega-embed\"))\n",
              "        .catch(showError)\n",
              "        .then(() => displayChart(vegaEmbed));\n",
              "    }\n",
              "  })({\"config\": {\"view\": {\"continuousWidth\": 400, \"continuousHeight\": 300}, \"axis\": {\"gridColor\": \"lightgrey\", \"gridOpacity\": 0.33, \"labelFontStyle\": \"Roboto-Regular\", \"titleFontStyle\": \"Roboto-Regular\"}, \"header\": {\"labelFontStyle\": \"Roboto-Regular\", \"titleFontStyle\": \"Roboto-Regular\"}}, \"layer\": [{\"mark\": {\"type\": \"circle\", \"size\": 100}, \"encoding\": {\"color\": {\"type\": \"nominal\", \"field\": \"type\", \"legend\": {\"direction\": \"horizontal\", \"fillColor\": \"white\", \"offset\": 5, \"orient\": \"top-right\", \"padding\": 5, \"strokeColor\": \"grey\", \"title\": null, \"titleBaseline\": \"middle\"}, \"scale\": {\"scheme\": \"tableau10\"}, \"title\": \"DNN Architecture\"}, \"text\": {\"type\": \"nominal\", \"field\": \"name\"}, \"x\": {\"type\": \"temporal\", \"field\": \"date\", \"scale\": {\"domain\": [\"2009-01-01T00:00:00\", \"2017-01-01T00:00:00\"]}, \"title\": \"Year\"}, \"y\": {\"type\": \"quantitative\", \"field\": \"top5\", \"scale\": {\"zero\": false}, \"title\": \"Top-5 Validation Error\"}}, \"height\": 240, \"selection\": {\"selector035\": {\"type\": \"interval\", \"bind\": \"scales\", \"encodings\": [\"x\", \"y\"]}}, \"width\": 426}, {\"mark\": {\"type\": \"text\", \"align\": \"left\", \"baseline\": \"middle\", \"dx\": 10, \"fontSize\": 10}, \"encoding\": {\"color\": {\"type\": \"nominal\", \"field\": \"type\", \"legend\": {\"direction\": \"horizontal\", \"fillColor\": \"white\", \"offset\": 5, \"orient\": \"top-right\", \"padding\": 5, \"strokeColor\": \"grey\", \"title\": null, \"titleBaseline\": \"middle\"}, \"scale\": {\"scheme\": \"tableau10\"}, \"title\": \"DNN Architecture\"}, \"text\": {\"type\": \"nominal\", \"field\": \"name\"}, \"x\": {\"type\": \"temporal\", \"field\": \"date\", \"scale\": {\"domain\": [\"2009-01-01T00:00:00\", \"2017-01-01T00:00:00\"]}, \"title\": \"Year\"}, \"y\": {\"type\": \"quantitative\", \"field\": \"top5\", \"scale\": {\"zero\": false}, \"title\": \"Top-5 Validation Error\"}}, \"height\": 240, \"transform\": [{\"filter\": \"(datum.type === 'CNN')\"}], \"width\": 426}, {\"mark\": {\"type\": \"text\", \"align\": \"left\", \"baseline\": \"middle\", \"dx\": 10, \"fontSize\": 10}, \"encoding\": {\"color\": {\"type\": \"nominal\", \"field\": \"type\", \"legend\": {\"direction\": \"horizontal\", \"fillColor\": \"white\", \"offset\": 5, \"orient\": \"top-right\", \"padding\": 5, \"strokeColor\": \"grey\", \"title\": null, \"titleBaseline\": \"middle\"}, \"scale\": {\"scheme\": \"tableau10\"}, \"title\": \"DNN Architecture\"}, \"text\": {\"type\": \"nominal\", \"field\": \"name\"}, \"x\": {\"type\": \"temporal\", \"field\": \"date\", \"scale\": {\"domain\": [\"2009-01-01T00:00:00\", \"2017-01-01T00:00:00\"]}, \"title\": \"Year\"}, \"y\": {\"type\": \"quantitative\", \"field\": \"top5\", \"scale\": {\"zero\": false}, \"title\": \"Top-5 Validation Error\"}}, \"height\": 240, \"transform\": [{\"filter\": \"(datum.type === 'other')\"}], \"width\": 426}], \"data\": {\"name\": \"data-706c2a5885921a39c6e11b551e47f8dc\"}, \"$schema\": \"https://vega.github.io/schema/vega-lite/v4.8.1.json\", \"datasets\": {\"data-706c2a5885921a39c6e11b551e47f8dc\": [{\"name\": \"\", \"type\": \"other\", \"top5\": 0.544, \"year\": 2010, \"date\": \"2010-01-01T00:00:00\"}, {\"name\": \"\", \"type\": \"other\", \"top5\": 0.701, \"year\": 2010, \"date\": \"2010-01-01T00:00:00\"}, {\"name\": \"\", \"type\": \"other\", \"top5\": 0.446, \"year\": 2010, \"date\": \"2010-01-01T00:00:00\"}, {\"name\": \"\", \"type\": \"other\", \"top5\": 0.787, \"year\": 2010, \"date\": \"2010-01-01T00:00:00\"}, {\"name\": \"\", \"type\": \"other\", \"top5\": 0.282, \"year\": 2010, \"date\": \"2010-01-01T00:00:00\"}, {\"name\": \"\", \"type\": \"other\", \"top5\": 0.742, \"year\": 2010, \"date\": \"2010-01-01T00:00:00\"}, {\"name\": \"\", \"type\": \"other\", \"top5\": 0.583, \"year\": 2010, \"date\": \"2010-01-01T00:00:00\"}, {\"name\": \"\", \"type\": \"other\", \"top5\": 0.751, \"year\": 2010, \"date\": \"2010-01-01T00:00:00\"}, {\"name\": \"\", \"type\": \"other\", \"top5\": 0.466, \"year\": 2010, \"date\": \"2010-01-01T00:00:00\"}, {\"name\": \"\", \"type\": \"other\", \"top5\": 0.336, \"year\": 2010, \"date\": \"2010-01-01T00:00:00\"}, {\"name\": \"\", \"type\": \"other\", \"top5\": 0.5045, \"year\": 2011, \"date\": \"2011-01-01T00:00:00\"}, {\"name\": \"\", \"type\": \"other\", \"top5\": 0.3596, \"year\": 2011, \"date\": \"2011-01-01T00:00:00\"}, {\"name\": \"\", \"type\": \"other\", \"top5\": 0.2577, \"year\": 2011, \"date\": \"2011-01-01T00:00:00\"}, {\"name\": \"\", \"type\": \"other\", \"top5\": 0.3101, \"year\": 2011, \"date\": \"2011-01-01T00:00:00\"}, {\"name\": \"AlexNet\", \"type\": \"CNN\", \"top5\": 0.15315, \"year\": 2012, \"date\": \"2012-01-01T00:00:00\"}, {\"name\": \"\", \"type\": \"other\", \"top5\": 0.26172, \"year\": 2012, \"date\": \"2012-01-01T00:00:00\"}, {\"name\": \"\", \"type\": \"other\", \"top5\": 0.26979, \"year\": 2012, \"date\": \"2012-01-01T00:00:00\"}, {\"name\": \"\", \"type\": \"other\", \"top5\": 0.27058, \"year\": 2012, \"date\": \"2012-01-01T00:00:00\"}, {\"name\": \"\", \"type\": \"other\", \"top5\": 0.29576, \"year\": 2012, \"date\": \"2012-01-01T00:00:00\"}, {\"name\": \"\", \"type\": \"other\", \"top5\": 0.33419, \"year\": 2012, \"date\": \"2012-01-01T00:00:00\"}, {\"name\": \"\", \"type\": \"other\", \"top5\": 0.34464, \"year\": 2012, \"date\": \"2012-01-01T00:00:00\"}, {\"name\": \"\", \"type\": \"CNN\", \"top5\": 0.14182, \"year\": 2013, \"date\": \"2013-01-01T00:00:00\"}, {\"name\": \"\", \"type\": \"CNN\", \"top5\": 0.15193, \"year\": 2013, \"date\": \"2013-01-01T00:00:00\"}, {\"name\": \"\", \"type\": \"CNN\", \"top5\": 0.14291, \"year\": 2013, \"date\": \"2013-01-01T00:00:00\"}, {\"name\": \"\", \"type\": \"CNN\", \"top5\": 0.13985, \"year\": 2013, \"date\": \"2013-01-01T00:00:00\"}, {\"name\": \"\", \"type\": \"CNN\", \"top5\": 0.15245, \"year\": 2013, \"date\": \"2013-01-01T00:00:00\"}, {\"name\": \"\", \"type\": \"CNN\", \"top5\": 0.13555, \"year\": 2013, \"date\": \"2013-01-01T00:00:00\"}, {\"name\": \"\", \"type\": \"CNN\", \"top5\": 0.13511, \"year\": 2013, \"date\": \"2013-01-01T00:00:00\"}, {\"name\": \"\", \"type\": \"CNN\", \"top5\": 0.12953, \"year\": 2013, \"date\": \"2013-01-01T00:00:00\"}, {\"name\": \"\", \"type\": \"CNN\", \"top5\": 0.11197, \"year\": 2013, \"date\": \"2013-01-01T00:00:00\"}, {\"name\": \"\", \"type\": \"CNN\", \"top5\": 0.13748, \"year\": 2013, \"date\": \"2013-01-01T00:00:00\"}, {\"name\": \"\", \"type\": \"CNN\", \"top5\": 0.12376, \"year\": 2014, \"date\": \"2014-01-01T00:00:00\"}, {\"name\": \"\", \"type\": \"CNN\", \"top5\": 0.11326, \"year\": 2014, \"date\": \"2014-01-01T00:00:00\"}, {\"name\": \"\", \"type\": \"CNN\", \"top5\": 0.11229, \"year\": 2014, \"date\": \"2014-01-01T00:00:00\"}, {\"name\": \"\", \"type\": \"CNN\", \"top5\": 0.10222, \"year\": 2014, \"date\": \"2014-01-01T00:00:00\"}, {\"name\": \"\", \"type\": \"CNN\", \"top5\": 0.09794, \"year\": 2014, \"date\": \"2014-01-01T00:00:00\"}, {\"name\": \"\", \"type\": \"CNN\", \"top5\": 0.09508, \"year\": 2014, \"date\": \"2014-01-01T00:00:00\"}, {\"name\": \"\", \"type\": \"CNN\", \"top5\": 0.08111, \"year\": 2014, \"date\": \"2014-01-01T00:00:00\"}, {\"name\": \"\", \"type\": \"CNN\", \"top5\": 0.0806, \"year\": 2014, \"date\": \"2014-01-01T00:00:00\"}, {\"name\": \"\", \"type\": \"CNN\", \"top5\": 0.07325, \"year\": 2014, \"date\": \"2014-01-01T00:00:00\"}, {\"name\": \"\", \"type\": \"CNN\", \"top5\": 0.06656, \"year\": 2014, \"date\": \"2014-01-01T00:00:00\"}, {\"name\": \"\", \"type\": \"CNN\", \"top5\": 0.06482, \"year\": 2015, \"date\": \"2015-01-01T00:00:00\"}, {\"name\": \"\", \"type\": \"CNN\", \"top5\": 0.06314, \"year\": 2015, \"date\": \"2015-01-01T00:00:00\"}, {\"name\": \"\", \"type\": \"CNN\", \"top5\": 0.06828, \"year\": 2015, \"date\": \"2015-01-01T00:00:00\"}, {\"name\": \"\", \"type\": \"CNN\", \"top5\": 0.05858, \"year\": 2015, \"date\": \"2015-01-01T00:00:00\"}, {\"name\": \"\", \"type\": \"CNN\", \"top5\": 0.05477, \"year\": 2015, \"date\": \"2015-01-01T00:00:00\"}, {\"name\": \"\", \"type\": \"CNN\", \"top5\": 0.04581, \"year\": 2015, \"date\": \"2015-01-01T00:00:00\"}, {\"name\": \"\", \"type\": \"CNN\", \"top5\": 0.04873, \"year\": 2015, \"date\": \"2015-01-01T00:00:00\"}, {\"name\": \"\", \"type\": \"CNN\", \"top5\": 0.03581, \"year\": 2015, \"date\": \"2015-01-01T00:00:00\"}, {\"name\": \"\", \"type\": \"CNN\", \"top5\": 0.03567, \"year\": 2015, \"date\": \"2015-01-01T00:00:00\"}, {\"name\": \"\", \"type\": \"CNN\", \"top5\": 0.05034, \"year\": 2015, \"date\": \"2015-01-01T00:00:00\"}, {\"name\": \"\", \"type\": \"CNN\", \"top5\": 0.03352, \"year\": 2016, \"date\": \"2016-01-01T00:00:00\"}, {\"name\": \"\", \"type\": \"CNN\", \"top5\": 0.02991, \"year\": 2016, \"date\": \"2016-01-01T00:00:00\"}, {\"name\": \"\", \"type\": \"CNN\", \"top5\": 0.03031, \"year\": 2016, \"date\": \"2016-01-01T00:00:00\"}, {\"name\": \"\", \"type\": \"CNN\", \"top5\": 0.03042, \"year\": 2016, \"date\": \"2016-01-01T00:00:00\"}, {\"name\": \"\", \"type\": \"CNN\", \"top5\": 0.03171, \"year\": 2016, \"date\": \"2016-01-01T00:00:00\"}, {\"name\": \"\", \"type\": \"CNN\", \"top5\": 0.03256, \"year\": 2016, \"date\": \"2016-01-01T00:00:00\"}, {\"name\": \"\", \"type\": \"CNN\", \"top5\": 0.03291, \"year\": 2016, \"date\": \"2016-01-01T00:00:00\"}, {\"name\": \"\", \"type\": \"CNN\", \"top5\": 0.03297, \"year\": 2016, \"date\": \"2016-01-01T00:00:00\"}, {\"name\": \"\", \"type\": \"CNN\", \"top5\": 0.03351, \"year\": 2016, \"date\": \"2016-01-01T00:00:00\"}, {\"name\": \"\", \"type\": \"CNN\", \"top5\": 0.03416, \"year\": 2016, \"date\": \"2016-01-01T00:00:00\"}]}}, {\"mode\": \"vega-lite\"});\n",
              "</script>"
            ]
          },
          "metadata": {
            "tags": []
          },
          "execution_count": 69
        }
      ]
    },
    {
      "cell_type": "code",
      "metadata": {
        "id": "v-pCvPvd0Az6"
      },
      "source": [
        "#data_years=pd.DataFrame({'year': pd.to_datetime(dataframe['date'].dt.year.unique(), format='%Y')})\n",
        "data_years=pd.DataFrame({'year': pd.to_datetime(range(2009, 2018), format='%Y'), 'label': ['',]*(len(range(2009,2018))-1)+ ['Human']})"
      ],
      "execution_count": 70,
      "outputs": []
    },
    {
      "cell_type": "code",
      "metadata": {
        "colab": {
          "base_uri": "https://localhost:8080/",
          "height": 308
        },
        "id": "nZO5RfwVxSo5",
        "outputId": "c027afcf-0a07-4855-8768-c20e7986a4f2"
      },
      "source": [
        "points=alt.Chart(dataframe, width=426, height=240).encode(\n",
        "    alt.X('date:T', title='Year', scale=alt.Scale(domain=[pd.to_datetime('2009', format='%Y'), pd.to_datetime('2017', format='%Y')])),\n",
        "    alt.Y('top5:Q', scale=alt.Scale(zero=False), title='Top-5 Validation Error'),\n",
        "    alt.Color('type:N', scale=alt.Scale(scheme=color_scheme), legend=alt.Legend(orient='top-right', offset=5, fillColor='white', padding=5, strokeColor='grey', direction='horizontal', title=None, titleBaseline='middle'), title='DNN Architecture'),\n",
        "    text='name:N'\n",
        ").mark_circle(size=100)\n",
        "\n",
        "annotations_other = points.transform_filter(\n",
        "    datum.type == 'other'\n",
        ").mark_text(\n",
        "    align='left',\n",
        "    baseline='middle',\n",
        "    fontSize = 10,\n",
        "    dx = 10,\n",
        ")\n",
        "\n",
        "annotations_cnn = points.transform_filter(\n",
        "    datum.type == 'CNN'\n",
        ").mark_text(\n",
        "    align='left',\n",
        "    baseline='middle',\n",
        "    fontSize = 10,\n",
        "    dx = 10,\n",
        ")\n",
        "human = alt.Chart(data_years, width=426, height=240).transform_calculate(\n",
        "    human='5.1/100',\n",
        ").encode(\n",
        "    x=alt.X('year:T', title='Year'),\n",
        "    y=alt.Y('human:Q'),\n",
        ").mark_line(size=2, color='gray', strokeDash=[5])\n",
        "\n",
        "human_label = alt.Chart(data_years, width=426, height=240).transform_calculate(\n",
        "    human='5.1/100',\n",
        ").encode(\n",
        "    x='max(year):T',\n",
        "    y=alt.Y('human:Q'),\n",
        "    text='label',\n",
        ").mark_text(align='right', dx=-10, dy=-7, angle=0, color='gray',)\n",
        "\n",
        "chart = (points+annotations_cnn+annotations_other+human+human_label).configure_axis(\n",
        "    gridColor='lightgrey',\n",
        "    gridOpacity=0.33,\n",
        "    labelFontStyle='Roboto-Regular',\n",
        "    titleFontStyle='Roboto-Regular',\n",
        ").configure_header(\n",
        "    labelFontStyle='Roboto-Regular',\n",
        "    titleFontStyle='Roboto-Regular',\n",
        ")\n",
        "\n",
        "chart.interactive()"
      ],
      "execution_count": 74,
      "outputs": [
        {
          "output_type": "execute_result",
          "data": {
            "text/plain": [
              "alt.LayerChart(...)"
            ],
            "text/html": [
              "\n",
              "<div id=\"altair-viz-3ffb8d08bbb040588f432d4499033466\"></div>\n",
              "<script type=\"text/javascript\">\n",
              "  (function(spec, embedOpt){\n",
              "    let outputDiv = document.currentScript.previousElementSibling;\n",
              "    if (outputDiv.id !== \"altair-viz-3ffb8d08bbb040588f432d4499033466\") {\n",
              "      outputDiv = document.getElementById(\"altair-viz-3ffb8d08bbb040588f432d4499033466\");\n",
              "    }\n",
              "    const paths = {\n",
              "      \"vega\": \"https://cdn.jsdelivr.net/npm//vega@5?noext\",\n",
              "      \"vega-lib\": \"https://cdn.jsdelivr.net/npm//vega-lib?noext\",\n",
              "      \"vega-lite\": \"https://cdn.jsdelivr.net/npm//vega-lite@4.8.1?noext\",\n",
              "      \"vega-embed\": \"https://cdn.jsdelivr.net/npm//vega-embed@6?noext\",\n",
              "    };\n",
              "\n",
              "    function loadScript(lib) {\n",
              "      return new Promise(function(resolve, reject) {\n",
              "        var s = document.createElement('script');\n",
              "        s.src = paths[lib];\n",
              "        s.async = true;\n",
              "        s.onload = () => resolve(paths[lib]);\n",
              "        s.onerror = () => reject(`Error loading script: ${paths[lib]}`);\n",
              "        document.getElementsByTagName(\"head\")[0].appendChild(s);\n",
              "      });\n",
              "    }\n",
              "\n",
              "    function showError(err) {\n",
              "      outputDiv.innerHTML = `<div class=\"error\" style=\"color:red;\">${err}</div>`;\n",
              "      throw err;\n",
              "    }\n",
              "\n",
              "    function displayChart(vegaEmbed) {\n",
              "      vegaEmbed(outputDiv, spec, embedOpt)\n",
              "        .catch(err => showError(`Javascript Error: ${err.message}<br>This usually means there's a typo in your chart specification. See the javascript console for the full traceback.`));\n",
              "    }\n",
              "\n",
              "    if(typeof define === \"function\" && define.amd) {\n",
              "      requirejs.config({paths});\n",
              "      require([\"vega-embed\"], displayChart, err => showError(`Error loading script: ${err.message}`));\n",
              "    } else if (typeof vegaEmbed === \"function\") {\n",
              "      displayChart(vegaEmbed);\n",
              "    } else {\n",
              "      loadScript(\"vega\")\n",
              "        .then(() => loadScript(\"vega-lite\"))\n",
              "        .then(() => loadScript(\"vega-embed\"))\n",
              "        .catch(showError)\n",
              "        .then(() => displayChart(vegaEmbed));\n",
              "    }\n",
              "  })({\"config\": {\"view\": {\"continuousWidth\": 400, \"continuousHeight\": 300}, \"axis\": {\"gridColor\": \"lightgrey\", \"gridOpacity\": 0.33, \"labelFontStyle\": \"Roboto-Regular\", \"titleFontStyle\": \"Roboto-Regular\"}, \"header\": {\"labelFontStyle\": \"Roboto-Regular\", \"titleFontStyle\": \"Roboto-Regular\"}}, \"layer\": [{\"mark\": {\"type\": \"circle\", \"size\": 100}, \"encoding\": {\"color\": {\"type\": \"nominal\", \"field\": \"type\", \"legend\": {\"direction\": \"horizontal\", \"fillColor\": \"white\", \"offset\": 5, \"orient\": \"top-right\", \"padding\": 5, \"strokeColor\": \"grey\", \"title\": null, \"titleBaseline\": \"middle\"}, \"scale\": {\"scheme\": \"tableau10\"}, \"title\": \"DNN Architecture\"}, \"text\": {\"type\": \"nominal\", \"field\": \"name\"}, \"x\": {\"type\": \"temporal\", \"field\": \"date\", \"scale\": {\"domain\": [\"2009-01-01T00:00:00\", \"2017-01-01T00:00:00\"]}, \"title\": \"Year\"}, \"y\": {\"type\": \"quantitative\", \"field\": \"top5\", \"scale\": {\"zero\": false}, \"title\": \"Top-5 Validation Error\"}}, \"height\": 240, \"selection\": {\"selector039\": {\"type\": \"interval\", \"bind\": \"scales\", \"encodings\": [\"x\", \"y\"]}}, \"width\": 426}, {\"mark\": {\"type\": \"text\", \"align\": \"left\", \"baseline\": \"middle\", \"dx\": 10, \"fontSize\": 10}, \"encoding\": {\"color\": {\"type\": \"nominal\", \"field\": \"type\", \"legend\": {\"direction\": \"horizontal\", \"fillColor\": \"white\", \"offset\": 5, \"orient\": \"top-right\", \"padding\": 5, \"strokeColor\": \"grey\", \"title\": null, \"titleBaseline\": \"middle\"}, \"scale\": {\"scheme\": \"tableau10\"}, \"title\": \"DNN Architecture\"}, \"text\": {\"type\": \"nominal\", \"field\": \"name\"}, \"x\": {\"type\": \"temporal\", \"field\": \"date\", \"scale\": {\"domain\": [\"2009-01-01T00:00:00\", \"2017-01-01T00:00:00\"]}, \"title\": \"Year\"}, \"y\": {\"type\": \"quantitative\", \"field\": \"top5\", \"scale\": {\"zero\": false}, \"title\": \"Top-5 Validation Error\"}}, \"height\": 240, \"transform\": [{\"filter\": \"(datum.type === 'CNN')\"}], \"width\": 426}, {\"mark\": {\"type\": \"text\", \"align\": \"left\", \"baseline\": \"middle\", \"dx\": 10, \"fontSize\": 10}, \"encoding\": {\"color\": {\"type\": \"nominal\", \"field\": \"type\", \"legend\": {\"direction\": \"horizontal\", \"fillColor\": \"white\", \"offset\": 5, \"orient\": \"top-right\", \"padding\": 5, \"strokeColor\": \"grey\", \"title\": null, \"titleBaseline\": \"middle\"}, \"scale\": {\"scheme\": \"tableau10\"}, \"title\": \"DNN Architecture\"}, \"text\": {\"type\": \"nominal\", \"field\": \"name\"}, \"x\": {\"type\": \"temporal\", \"field\": \"date\", \"scale\": {\"domain\": [\"2009-01-01T00:00:00\", \"2017-01-01T00:00:00\"]}, \"title\": \"Year\"}, \"y\": {\"type\": \"quantitative\", \"field\": \"top5\", \"scale\": {\"zero\": false}, \"title\": \"Top-5 Validation Error\"}}, \"height\": 240, \"transform\": [{\"filter\": \"(datum.type === 'other')\"}], \"width\": 426}, {\"data\": {\"name\": \"data-db676aff0a255f90a92e561dee530025\"}, \"mark\": {\"type\": \"line\", \"color\": \"gray\", \"size\": 2, \"strokeDash\": [5]}, \"encoding\": {\"x\": {\"type\": \"temporal\", \"field\": \"year\", \"title\": \"Year\"}, \"y\": {\"type\": \"quantitative\", \"field\": \"human\"}}, \"height\": 240, \"transform\": [{\"calculate\": \"5.1/100\", \"as\": \"human\"}], \"width\": 426}, {\"data\": {\"name\": \"data-db676aff0a255f90a92e561dee530025\"}, \"mark\": {\"type\": \"text\", \"align\": \"right\", \"angle\": 0, \"color\": \"gray\", \"dx\": -10, \"dy\": -7}, \"encoding\": {\"text\": {\"type\": \"nominal\", \"field\": \"label\"}, \"x\": {\"type\": \"temporal\", \"aggregate\": \"max\", \"field\": \"year\"}, \"y\": {\"type\": \"quantitative\", \"field\": \"human\"}}, \"height\": 240, \"transform\": [{\"calculate\": \"5.1/100\", \"as\": \"human\"}], \"width\": 426}], \"data\": {\"name\": \"data-706c2a5885921a39c6e11b551e47f8dc\"}, \"$schema\": \"https://vega.github.io/schema/vega-lite/v4.8.1.json\", \"datasets\": {\"data-706c2a5885921a39c6e11b551e47f8dc\": [{\"name\": \"\", \"type\": \"other\", \"top5\": 0.544, \"year\": 2010, \"date\": \"2010-01-01T00:00:00\"}, {\"name\": \"\", \"type\": \"other\", \"top5\": 0.701, \"year\": 2010, \"date\": \"2010-01-01T00:00:00\"}, {\"name\": \"\", \"type\": \"other\", \"top5\": 0.446, \"year\": 2010, \"date\": \"2010-01-01T00:00:00\"}, {\"name\": \"\", \"type\": \"other\", \"top5\": 0.787, \"year\": 2010, \"date\": \"2010-01-01T00:00:00\"}, {\"name\": \"\", \"type\": \"other\", \"top5\": 0.282, \"year\": 2010, \"date\": \"2010-01-01T00:00:00\"}, {\"name\": \"\", \"type\": \"other\", \"top5\": 0.742, \"year\": 2010, \"date\": \"2010-01-01T00:00:00\"}, {\"name\": \"\", \"type\": \"other\", \"top5\": 0.583, \"year\": 2010, \"date\": \"2010-01-01T00:00:00\"}, {\"name\": \"\", \"type\": \"other\", \"top5\": 0.751, \"year\": 2010, \"date\": \"2010-01-01T00:00:00\"}, {\"name\": \"\", \"type\": \"other\", \"top5\": 0.466, \"year\": 2010, \"date\": \"2010-01-01T00:00:00\"}, {\"name\": \"\", \"type\": \"other\", \"top5\": 0.336, \"year\": 2010, \"date\": \"2010-01-01T00:00:00\"}, {\"name\": \"\", \"type\": \"other\", \"top5\": 0.5045, \"year\": 2011, \"date\": \"2011-01-01T00:00:00\"}, {\"name\": \"\", \"type\": \"other\", \"top5\": 0.3596, \"year\": 2011, \"date\": \"2011-01-01T00:00:00\"}, {\"name\": \"\", \"type\": \"other\", \"top5\": 0.2577, \"year\": 2011, \"date\": \"2011-01-01T00:00:00\"}, {\"name\": \"\", \"type\": \"other\", \"top5\": 0.3101, \"year\": 2011, \"date\": \"2011-01-01T00:00:00\"}, {\"name\": \"AlexNet\", \"type\": \"CNN\", \"top5\": 0.15315, \"year\": 2012, \"date\": \"2012-01-01T00:00:00\"}, {\"name\": \"\", \"type\": \"other\", \"top5\": 0.26172, \"year\": 2012, \"date\": \"2012-01-01T00:00:00\"}, {\"name\": \"\", \"type\": \"other\", \"top5\": 0.26979, \"year\": 2012, \"date\": \"2012-01-01T00:00:00\"}, {\"name\": \"\", \"type\": \"other\", \"top5\": 0.27058, \"year\": 2012, \"date\": \"2012-01-01T00:00:00\"}, {\"name\": \"\", \"type\": \"other\", \"top5\": 0.29576, \"year\": 2012, \"date\": \"2012-01-01T00:00:00\"}, {\"name\": \"\", \"type\": \"other\", \"top5\": 0.33419, \"year\": 2012, \"date\": \"2012-01-01T00:00:00\"}, {\"name\": \"\", \"type\": \"other\", \"top5\": 0.34464, \"year\": 2012, \"date\": \"2012-01-01T00:00:00\"}, {\"name\": \"\", \"type\": \"CNN\", \"top5\": 0.14182, \"year\": 2013, \"date\": \"2013-01-01T00:00:00\"}, {\"name\": \"\", \"type\": \"CNN\", \"top5\": 0.15193, \"year\": 2013, \"date\": \"2013-01-01T00:00:00\"}, {\"name\": \"\", \"type\": \"CNN\", \"top5\": 0.14291, \"year\": 2013, \"date\": \"2013-01-01T00:00:00\"}, {\"name\": \"\", \"type\": \"CNN\", \"top5\": 0.13985, \"year\": 2013, \"date\": \"2013-01-01T00:00:00\"}, {\"name\": \"\", \"type\": \"CNN\", \"top5\": 0.15245, \"year\": 2013, \"date\": \"2013-01-01T00:00:00\"}, {\"name\": \"\", \"type\": \"CNN\", \"top5\": 0.13555, \"year\": 2013, \"date\": \"2013-01-01T00:00:00\"}, {\"name\": \"\", \"type\": \"CNN\", \"top5\": 0.13511, \"year\": 2013, \"date\": \"2013-01-01T00:00:00\"}, {\"name\": \"\", \"type\": \"CNN\", \"top5\": 0.12953, \"year\": 2013, \"date\": \"2013-01-01T00:00:00\"}, {\"name\": \"\", \"type\": \"CNN\", \"top5\": 0.11197, \"year\": 2013, \"date\": \"2013-01-01T00:00:00\"}, {\"name\": \"\", \"type\": \"CNN\", \"top5\": 0.13748, \"year\": 2013, \"date\": \"2013-01-01T00:00:00\"}, {\"name\": \"\", \"type\": \"CNN\", \"top5\": 0.12376, \"year\": 2014, \"date\": \"2014-01-01T00:00:00\"}, {\"name\": \"\", \"type\": \"CNN\", \"top5\": 0.11326, \"year\": 2014, \"date\": \"2014-01-01T00:00:00\"}, {\"name\": \"\", \"type\": \"CNN\", \"top5\": 0.11229, \"year\": 2014, \"date\": \"2014-01-01T00:00:00\"}, {\"name\": \"\", \"type\": \"CNN\", \"top5\": 0.10222, \"year\": 2014, \"date\": \"2014-01-01T00:00:00\"}, {\"name\": \"\", \"type\": \"CNN\", \"top5\": 0.09794, \"year\": 2014, \"date\": \"2014-01-01T00:00:00\"}, {\"name\": \"\", \"type\": \"CNN\", \"top5\": 0.09508, \"year\": 2014, \"date\": \"2014-01-01T00:00:00\"}, {\"name\": \"\", \"type\": \"CNN\", \"top5\": 0.08111, \"year\": 2014, \"date\": \"2014-01-01T00:00:00\"}, {\"name\": \"\", \"type\": \"CNN\", \"top5\": 0.0806, \"year\": 2014, \"date\": \"2014-01-01T00:00:00\"}, {\"name\": \"\", \"type\": \"CNN\", \"top5\": 0.07325, \"year\": 2014, \"date\": \"2014-01-01T00:00:00\"}, {\"name\": \"\", \"type\": \"CNN\", \"top5\": 0.06656, \"year\": 2014, \"date\": \"2014-01-01T00:00:00\"}, {\"name\": \"\", \"type\": \"CNN\", \"top5\": 0.06482, \"year\": 2015, \"date\": \"2015-01-01T00:00:00\"}, {\"name\": \"\", \"type\": \"CNN\", \"top5\": 0.06314, \"year\": 2015, \"date\": \"2015-01-01T00:00:00\"}, {\"name\": \"\", \"type\": \"CNN\", \"top5\": 0.06828, \"year\": 2015, \"date\": \"2015-01-01T00:00:00\"}, {\"name\": \"\", \"type\": \"CNN\", \"top5\": 0.05858, \"year\": 2015, \"date\": \"2015-01-01T00:00:00\"}, {\"name\": \"\", \"type\": \"CNN\", \"top5\": 0.05477, \"year\": 2015, \"date\": \"2015-01-01T00:00:00\"}, {\"name\": \"\", \"type\": \"CNN\", \"top5\": 0.04581, \"year\": 2015, \"date\": \"2015-01-01T00:00:00\"}, {\"name\": \"\", \"type\": \"CNN\", \"top5\": 0.04873, \"year\": 2015, \"date\": \"2015-01-01T00:00:00\"}, {\"name\": \"\", \"type\": \"CNN\", \"top5\": 0.03581, \"year\": 2015, \"date\": \"2015-01-01T00:00:00\"}, {\"name\": \"\", \"type\": \"CNN\", \"top5\": 0.03567, \"year\": 2015, \"date\": \"2015-01-01T00:00:00\"}, {\"name\": \"\", \"type\": \"CNN\", \"top5\": 0.05034, \"year\": 2015, \"date\": \"2015-01-01T00:00:00\"}, {\"name\": \"\", \"type\": \"CNN\", \"top5\": 0.03352, \"year\": 2016, \"date\": \"2016-01-01T00:00:00\"}, {\"name\": \"\", \"type\": \"CNN\", \"top5\": 0.02991, \"year\": 2016, \"date\": \"2016-01-01T00:00:00\"}, {\"name\": \"\", \"type\": \"CNN\", \"top5\": 0.03031, \"year\": 2016, \"date\": \"2016-01-01T00:00:00\"}, {\"name\": \"\", \"type\": \"CNN\", \"top5\": 0.03042, \"year\": 2016, \"date\": \"2016-01-01T00:00:00\"}, {\"name\": \"\", \"type\": \"CNN\", \"top5\": 0.03171, \"year\": 2016, \"date\": \"2016-01-01T00:00:00\"}, {\"name\": \"\", \"type\": \"CNN\", \"top5\": 0.03256, \"year\": 2016, \"date\": \"2016-01-01T00:00:00\"}, {\"name\": \"\", \"type\": \"CNN\", \"top5\": 0.03291, \"year\": 2016, \"date\": \"2016-01-01T00:00:00\"}, {\"name\": \"\", \"type\": \"CNN\", \"top5\": 0.03297, \"year\": 2016, \"date\": \"2016-01-01T00:00:00\"}, {\"name\": \"\", \"type\": \"CNN\", \"top5\": 0.03351, \"year\": 2016, \"date\": \"2016-01-01T00:00:00\"}, {\"name\": \"\", \"type\": \"CNN\", \"top5\": 0.03416, \"year\": 2016, \"date\": \"2016-01-01T00:00:00\"}], \"data-db676aff0a255f90a92e561dee530025\": [{\"year\": \"2009-01-01T00:00:00\", \"label\": \"\"}, {\"year\": \"2010-01-01T00:00:00\", \"label\": \"\"}, {\"year\": \"2011-01-01T00:00:00\", \"label\": \"\"}, {\"year\": \"2012-01-01T00:00:00\", \"label\": \"\"}, {\"year\": \"2013-01-01T00:00:00\", \"label\": \"\"}, {\"year\": \"2014-01-01T00:00:00\", \"label\": \"\"}, {\"year\": \"2015-01-01T00:00:00\", \"label\": \"\"}, {\"year\": \"2016-01-01T00:00:00\", \"label\": \"\"}, {\"year\": \"2017-01-01T00:00:00\", \"label\": \"Human\"}]}}, {\"mode\": \"vega-lite\"});\n",
              "</script>"
            ]
          },
          "metadata": {
            "tags": []
          },
          "execution_count": 74
        }
      ]
    },
    {
      "cell_type": "code",
      "metadata": {
        "id": "wi6sVCOFHVV-",
        "colab": {
          "base_uri": "https://localhost:8080/"
        },
        "outputId": "a1119174-eace-442a-b9f9-81e50dc18f6c"
      },
      "source": [
        "#alt.renderers.enable('altair_saver', ['vega-lite', 'png'])\n",
        "from altair_saver import save\n",
        "for fmt in ['json', 'vg.json', 'html', 'png', 'svg', 'pdf']:\n",
        "  save(chart, f'chart.{fmt}')\n",
        "!ls -lh chart.*"
      ],
      "execution_count": 53,
      "outputs": [
        {
          "output_type": "stream",
          "text": [
            "WARN text dropped as it is incompatible with \"circle\".\n"
          ],
          "name": "stderr"
        },
        {
          "output_type": "stream",
          "text": [
            "-rw-r--r-- 1 root root 9.7K Apr  5 02:25 chart.html\n",
            "-rw-r--r-- 1 root root  15K Apr  5 02:25 chart.json\n",
            "-rw-r--r-- 1 root root  19K Apr  5 02:25 chart.pdf\n",
            "-rw-r--r-- 1 root root  22K Apr  5 02:25 chart.png\n",
            "-rw-r--r-- 1 root root  32K Apr  5 02:25 chart.svg\n",
            "-rw-r--r-- 1 root root  21K Apr  5 02:25 chart.vg.json\n"
          ],
          "name": "stdout"
        }
      ]
    },
    {
      "cell_type": "markdown",
      "metadata": {
        "id": "X9U4IzZfRvJG"
      },
      "source": [
        "# Bokeh Plot"
      ]
    },
    {
      "cell_type": "code",
      "metadata": {
        "id": "Pwzwx9LXTxm6"
      },
      "source": [
        "from bokeh.io import output_notebook\n",
        "from bokeh.plotting import figure, output_file, show, save\n",
        "from bokeh.models import ColumnDataSource, Label, LabelSet, Plot\n",
        "from bokeh.palettes import Spectral4 as colormap\n",
        "from bokeh.transform import factor_cmap\n",
        "\n",
        "# Call once to configure Bokeh to display plots inline in the notebook.\n",
        "output_notebook()\n",
        "BOKEH_RESOURCES='inline'"
      ],
      "execution_count": null,
      "outputs": []
    },
    {
      "cell_type": "code",
      "metadata": {
        "id": "mBdrbm5MuGV1"
      },
      "source": [
        "source = ColumnDataSource(dataframe)"
      ],
      "execution_count": null,
      "outputs": []
    },
    {
      "cell_type": "code",
      "metadata": {
        "id": "sKWzvUbQZ1iN",
        "cellView": "code"
      },
      "source": [
        "#@title Default title text\n",
        "p = figure(x_axis_type=\"datetime\",\n",
        "           x_axis_label='Year',\n",
        "           y_axis_label='Top-5 Validation Error')\n",
        "p.circle(x='date', y='top5', source=source, size=8,  legend_field='type',\n",
        "         color=factor_cmap('type', palette=colormap,\n",
        "                           factors=['CNN', 'other']))\n",
        "labels = LabelSet(x='date', y='top5', text='name',\n",
        "                  x_offset=5, y_offset=0, source=source, text_font_size='0.8em')\n",
        "p.add_layout(labels)\n",
        "p.legend.orientation = \"horizontal\"\n",
        "p.legend.location = \"top_center\"\n",
        "\n",
        "p.output_backend = \"svg\"\n",
        "show(p)"
      ],
      "execution_count": null,
      "outputs": []
    },
    {
      "cell_type": "code",
      "metadata": {
        "id": "c3dQZXE3fLKE"
      },
      "source": [
        ""
      ],
      "execution_count": null,
      "outputs": []
    }
  ]
}